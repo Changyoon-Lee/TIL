{
 "cells": [
  {
   "cell_type": "markdown",
   "metadata": {},
   "source": [
    "# 8장. 핵심 키워드 추출 (Keyword Extraction)"
   ]
  },
  {
   "cell_type": "markdown",
   "metadata": {},
   "source": [
    "# 8-0 데이터 준비"
   ]
  },
  {
   "cell_type": "markdown",
   "metadata": {},
   "source": [
    "# 8-1 TF-IDF 활용 핵심키워드 추출"
   ]
  },
  {
   "cell_type": "markdown",
   "metadata": {},
   "source": [
    "## 실습 1. sklearn 활용\n"
   ]
  },
  {
   "cell_type": "code",
   "execution_count": 5,
   "metadata": {},
   "outputs": [
    {
     "data": {
      "text/plain": [
       "5"
      ]
     },
     "execution_count": 5,
     "metadata": {},
     "output_type": "execute_result"
    }
   ],
   "source": [
    "import requests \n",
    "from bs4 import BeautifulSoup\n",
    "\n",
    "def get_news_by_url(url):\n",
    "  res = requests.get(url)\n",
    "  bs = BeautifulSoup(res.content, 'html.parser')\n",
    "\n",
    "  title = bs.select('h3#articleTitle')[0].text #제목\n",
    "  content = bs.select('#articleBodyContents')[0].get_text().replace('\\n', \" \") #본문\n",
    "  content = content.replace(\"// flash 오류를 우회하기 위한 함수 추가 function _flash_removeCallback() {}\", \"\")\n",
    "  return  content.strip()\n",
    "\n",
    "docs = []\n",
    "docs.append( get_news_by_url('https://news.naver.com/main/read.nhn?mode=LSD&mid=sec&sid1=105&oid=018&aid=0004430108') )\n",
    "docs.append( get_news_by_url('https://news.naver.com/main/read.nhn?mode=LSD&mid=sec&sid1=101&oid=001&aid=0011614790') )\n",
    "docs.append( get_news_by_url('https://news.naver.com/main/read.nhn?mode=LSD&mid=sec&sid1=102&oid=014&aid=0004424362') )\n",
    "docs.append( get_news_by_url('https://news.naver.com/main/read.nhn?mode=LSD&mid=sec&sid1=101&oid=119&aid=0002402191') )\n",
    "docs.append( get_news_by_url('https://news.naver.com/main/read.nhn?mode=LSD&mid=sec&sid1=101&oid=030&aid=0002882728') )\n",
    "len(docs)"
   ]
  },
  {
   "cell_type": "markdown",
   "metadata": {},
   "source": [
    "### 1) 전처리"
   ]
  },
  {
   "cell_type": "code",
   "execution_count": 7,
   "metadata": {},
   "outputs": [
    {
     "data": {
      "text/plain": [
       "'과기 정통부 일 유영민 장관 등 참석 기념행사 년 억 원 투입 여종 데이터 구축 민간 클라우드 통한 외부 연계 체계 개방 강화 데일리 이재운 기자 국가 차원 빅 데이터 활용 시대 '"
      ]
     },
     "execution_count": 7,
     "metadata": {},
     "output_type": "execute_result"
    }
   ],
   "source": [
    "from konlpy.tag import Mecab\n",
    "mecab = Mecab(dicpath='C:\\mecab\\mecab-ko-dic')\n",
    "\n",
    "preprocessed_docs = []\n",
    "for doc in docs :\n",
    "  # 명사와 동사만으로 문서 전처리\n",
    "  preprocessed_docs.append(' '.join([token[0] for token in mecab.pos(doc) if token[1][0] in ['N', 'V']]))\n",
    "preprocessed_docs[0][:100]"
   ]
  },
  {
   "cell_type": "markdown",
   "metadata": {},
   "source": [
    "### 2) TF-IDF 계산"
   ]
  },
  {
   "cell_type": "code",
   "execution_count": 8,
   "metadata": {},
   "outputs": [
    {
     "data": {
      "text/plain": [
       "['과기', '정통부', '유영민', '장관', '참석', '기념행사', '투입', '여종', '구축', '민간']"
      ]
     },
     "execution_count": 8,
     "metadata": {},
     "output_type": "execute_result"
    }
   ],
   "source": [
    "from sklearn.feature_extraction.text import CountVectorizer\n",
    "\n",
    "count_vectorizer = CountVectorizer(max_df=0.85, max_features=10000)\n",
    "word_count_vector = count_vectorizer.fit_transform(preprocessed_docs)\n",
    "list(count_vectorizer.vocabulary_.keys())[:10]"
   ]
  },
  {
   "cell_type": "code",
   "execution_count": 9,
   "metadata": {},
   "outputs": [
    {
     "data": {
      "text/plain": [
       "TfidfTransformer()"
      ]
     },
     "execution_count": 9,
     "metadata": {},
     "output_type": "execute_result"
    }
   ],
   "source": [
    "from sklearn.feature_extraction.text import TfidfTransformer\n",
    "\n",
    "tfidf_transformer = TfidfTransformer(smooth_idf=True, use_idf=True)\n",
    "tfidf_transformer.fit(word_count_vector)"
   ]
  },
  {
   "cell_type": "markdown",
   "metadata": {},
   "source": [
    "### 3) 핵심키워드 추출"
   ]
  },
  {
   "cell_type": "code",
   "execution_count": 10,
   "metadata": {},
   "outputs": [],
   "source": [
    "def sort_keywords(keywords):\n",
    "    return sorted(zip(keywords.col, keywords.data), key=lambda x: (x[1], x[0]), reverse=True)\n",
    " \n",
    "def extract_keywords(feature_names, sorted_keywords, n=5):\n",
    "    return [(feature_names[idx], score) for idx, score in sorted_keywords[:n]]"
   ]
  },
  {
   "cell_type": "code",
   "execution_count": 11,
   "metadata": {},
   "outputs": [
    {
     "name": "stdout",
     "output_type": "stream",
     "text": [
      "\n",
      "===== 원문 =====\n",
      "과기정통부, 22일 유영민 장관 등 참석해 기념행사2021년까지 1516억원 투입, 5100여종 데이터 구축민간 클라우드 통한 외부연계체계도..\"개방성 강화\"[이데일리 이재운 기자\n",
      "\n",
      "=== 핵심키워드 ===\n",
      "('플랫', 0.2526148007071733)\n",
      "('계획', 0.21652697203472)\n",
      "('정통부', 0.18043914336226666)\n",
      "('과기', 0.18043914336226666)\n",
      "('통해', 0.17469259767293158)\n"
     ]
    }
   ],
   "source": [
    "doc = preprocessed_docs[0] # 핵심키워드 추출할 문서 조회\n",
    "\n",
    "feature_names = count_vectorizer.get_feature_names() # TF-IDF 단어 목록\n",
    "tf_idf_vector = tfidf_transformer.transform(count_vectorizer.transform([doc])) # 문서의 tf-idf 추출\n",
    "sorted_keywords = sort_keywords(tf_idf_vector.tocoo()) # TF-IDF를 기준으로 역순 정렬\n",
    " \n",
    "# 사용자가 지정한 갯수만큼 키워드 추출\n",
    "keywords = extract_keywords(feature_names, sorted_keywords, 5)\n",
    " \n",
    "print(\"\\n===== 원문 =====\")\n",
    "print(docs[0][:100])\n",
    "print(\"\\n=== 핵심키워드 ===\")\n",
    "for k in keywords:\n",
    "    print(k)"
   ]
  },
  {
   "cell_type": "code",
   "execution_count": 12,
   "metadata": {},
   "outputs": [
    {
     "data": {
      "text/plain": [
       "array([0.03608783, 0.03608783, 0.05823087, 0.07217566, 0.03608783,\n",
       "       0.03608783, 0.03608783, 0.02911543, 0.03608783, 0.14557716,\n",
       "       0.03608783, 0.03608783, 0.02911543, 0.02911543, 0.07217566,\n",
       "       0.11646173, 0.03608783, 0.03608783, 0.04833688, 0.03608783,\n",
       "       0.03608783, 0.2526148 , 0.03608783, 0.02911543, 0.03608783,\n",
       "       0.02911543, 0.02911543, 0.03608783, 0.10826349, 0.1746926 ,\n",
       "       0.07217566, 0.03608783, 0.10826349, 0.03608783, 0.07217566,\n",
       "       0.03608783, 0.02911543, 0.02911543, 0.07217566, 0.03608783,\n",
       "       0.04066251, 0.02911543, 0.07217566, 0.03608783, 0.03608783,\n",
       "       0.10826349, 0.03608783, 0.03608783, 0.10826349, 0.03608783,\n",
       "       0.03608783, 0.02911543, 0.03608783, 0.03608783, 0.02911543,\n",
       "       0.02911543, 0.03608783, 0.03608783, 0.10826349, 0.02911543,\n",
       "       0.07217566, 0.03608783, 0.02911543, 0.03608783, 0.1208422 ,\n",
       "       0.07217566, 0.18043914, 0.02911543, 0.04066251, 0.02911543,\n",
       "       0.09667376, 0.07217566, 0.03608783, 0.02033125, 0.02911543,\n",
       "       0.02911543, 0.02911543, 0.10826349, 0.03608783, 0.03608783,\n",
       "       0.03608783, 0.03608783, 0.07217566, 0.03608783, 0.02911543,\n",
       "       0.03608783, 0.03608783, 0.03608783, 0.03608783, 0.03608783,\n",
       "       0.02416844, 0.03608783, 0.0873463 , 0.10826349, 0.04066251,\n",
       "       0.1208422 , 0.02911543, 0.03608783, 0.03608783, 0.04833688,\n",
       "       0.03608783, 0.03608783, 0.03608783, 0.05823087, 0.03608783,\n",
       "       0.07217566, 0.03608783, 0.03608783, 0.03608783, 0.03608783,\n",
       "       0.03608783, 0.03608783, 0.02911543, 0.10826349, 0.03608783,\n",
       "       0.05823087, 0.02911543, 0.14435131, 0.03608783, 0.10826349,\n",
       "       0.03608783, 0.07217566, 0.02911543, 0.02911543, 0.07217566,\n",
       "       0.0873463 , 0.03608783, 0.03608783, 0.03608783, 0.03608783,\n",
       "       0.05823087, 0.03608783, 0.02911543, 0.03608783, 0.03608783,\n",
       "       0.03608783, 0.07217566, 0.02911543, 0.07217566, 0.04066251,\n",
       "       0.02911543, 0.03608783, 0.05823087, 0.02911543, 0.14435131,\n",
       "       0.02911543, 0.07217566, 0.06099376, 0.07217566, 0.03608783,\n",
       "       0.03608783, 0.04066251, 0.03608783, 0.03608783, 0.14557716,\n",
       "       0.0873463 , 0.03608783, 0.03608783, 0.02911543, 0.03608783,\n",
       "       0.02911543, 0.03608783, 0.02033125, 0.14435131, 0.07217566,\n",
       "       0.02416844, 0.02911543, 0.03608783, 0.09667376, 0.03608783,\n",
       "       0.14435131, 0.03608783, 0.05823087, 0.03608783, 0.03608783,\n",
       "       0.02033125, 0.03608783, 0.03608783, 0.03608783, 0.03608783,\n",
       "       0.03608783, 0.03608783, 0.11646173, 0.03608783, 0.02416844,\n",
       "       0.02416844, 0.03608783, 0.10826349, 0.03608783, 0.0873463 ,\n",
       "       0.03608783, 0.07217566, 0.07217566, 0.02911543, 0.03608783,\n",
       "       0.03608783, 0.03608783, 0.02911543, 0.03608783, 0.03608783,\n",
       "       0.02911543, 0.03608783, 0.02416844, 0.03608783, 0.03608783,\n",
       "       0.03608783, 0.05823087, 0.03608783, 0.1208422 , 0.04066251,\n",
       "       0.05823087, 0.03608783, 0.02416844, 0.02033125, 0.0873463 ,\n",
       "       0.03608783, 0.02911543, 0.03608783, 0.03608783, 0.02911543,\n",
       "       0.03608783, 0.14501064, 0.03608783, 0.02416844, 0.07217566,\n",
       "       0.05823087, 0.03608783, 0.05823087, 0.18043914, 0.03608783,\n",
       "       0.02416844, 0.03608783, 0.07217566, 0.03608783, 0.04066251,\n",
       "       0.03608783, 0.21652697, 0.03608783, 0.14557716, 0.07217566,\n",
       "       0.02033125, 0.02911543, 0.03608783, 0.02911543, 0.03608783,\n",
       "       0.02911543, 0.05823087, 0.03608783, 0.0873463 , 0.03608783,\n",
       "       0.03608783, 0.03608783, 0.02911543])"
      ]
     },
     "execution_count": 12,
     "metadata": {},
     "output_type": "execute_result"
    }
   ],
   "source": [
    "tf_idf_vector.tocoo().data"
   ]
  },
  {
   "cell_type": "markdown",
   "metadata": {},
   "source": [
    "## 실습 2. gensim 활용\n"
   ]
  },
  {
   "cell_type": "markdown",
   "metadata": {},
   "source": [
    "### 1) 전처리"
   ]
  },
  {
   "cell_type": "code",
   "execution_count": 20,
   "metadata": {},
   "outputs": [
    {
     "data": {
      "text/plain": [
       "'과기 정통부 일 유영민 장관 등 참석 기념행사 년 억 원 투입 여종 데이터 구축 민간 클라우드 통한 외부 연계 체계 개방 강화 데일리 이재운 기자 국가 차원 빅 데이터 활용 시대 '"
      ]
     },
     "execution_count": 20,
     "metadata": {},
     "output_type": "execute_result"
    }
   ],
   "source": [
    "from konlpy.tag import Mecab\n",
    "mecab = Mecab(dicpath = 'C:\\mecab\\mecab-ko-dic')\n",
    "\n",
    "preprocessed_docs = []\n",
    "for doc in docs :\n",
    "  # 명사와 동사만으로 문서 전처리\n",
    "  preprocessed_docs.append(' '.join([token[0] for token in mecab.pos(doc) if token[1][0] in ['N', 'V']]))\n",
    "preprocessed_docs[0][:100]"
   ]
  },
  {
   "cell_type": "markdown",
   "metadata": {},
   "source": [
    "### 2) TF-IDF 계산"
   ]
  },
  {
   "cell_type": "code",
   "execution_count": 14,
   "metadata": {},
   "outputs": [],
   "source": [
    "from gensim.models import TfidfModel\n",
    "from gensim.corpora import Dictionary\n",
    "\n",
    "document_ls = [doc.split() for doc in preprocessed_docs]\n",
    "dct = Dictionary(document_ls) # 인덱스(key) - 단어(valuue) 인 딕셔너리 생성\n",
    "corpus = [dct.doc2bow(doc) for doc in document_ls] # 각 문서에 포함된 단어를 인덱스로 변환하여 corpus 생성\n",
    "tfidf = TfidfModel(corpus) # TF-IDF 산출"
   ]
  },
  {
   "cell_type": "markdown",
   "metadata": {},
   "source": [
    "### 3) 핵심키워드 추출"
   ]
  },
  {
   "cell_type": "code",
   "execution_count": 15,
   "metadata": {},
   "outputs": [],
   "source": [
    "def sort_keywords(tfidf):\n",
    "    return sorted(tfidf, key=lambda x: (x[1], x[0]), reverse=True)\n",
    "\n",
    "def extract_keywords(feature_names, sorted_keywords, n=5):\n",
    "    return [(feature_names[idx], score) for idx, score in sorted_keywords[:n]]"
   ]
  },
  {
   "cell_type": "code",
   "execution_count": 16,
   "metadata": {},
   "outputs": [
    {
     "name": "stdout",
     "output_type": "stream",
     "text": [
      "\n",
      "=== 핵심키워드 ===\n",
      "('플랫', 0.260111262735105)\n",
      "('폼', 0.260111262735105)\n",
      "('계획', 0.2229525109158043)\n",
      "('정통부', 0.18579375909650356)\n",
      "('과기', 0.18579375909650356)\n"
     ]
    }
   ],
   "source": [
    "doc = corpus[0]\n",
    "\n",
    "sorted_keywords = sort_keywords(tfidf[doc]) # TF-IDF를 기준으로 역순 정렬\n",
    "\n",
    "# 사용자가 지정한 갯수만큼 키워드 추출\n",
    "keywords = extract_keywords(dct, sorted_keywords, 5)\n",
    "\n",
    "print(\"\\n=== 핵심키워드 ===\")\n",
    "for k in keywords:\n",
    "    print(k)"
   ]
  },
  {
   "cell_type": "markdown",
   "metadata": {},
   "source": [
    "# 8-2 Textrank\n",
    "https://web.eecs.umich.edu/~mihalcea/papers/mihalcea.emnlp04.pdf"
   ]
  },
  {
   "cell_type": "markdown",
   "metadata": {},
   "source": [
    "<img src=\"https://3.bp.blogspot.com/-yp0Lr3ec5EY/XIs6znCcO_I/AAAAAAAAAPY/xtZxe_OYtH0xeuWsp4Qd4DQrunGMpVQmQCLcBGAs/s640/keyword-extraction-textrank.png\" />"
   ]
  },
  {
   "cell_type": "markdown",
   "metadata": {},
   "source": [
    "## 실습 1. 행렬 활용 \n"
   ]
  },
  {
   "cell_type": "markdown",
   "metadata": {},
   "source": [
    "### 1) 토큰화 (Tokenization)\n",
    "\n",
    "분석 텍스트 정제"
   ]
  },
  {
   "cell_type": "markdown",
   "metadata": {},
   "source": [
    "### 2) Unique한 토큰 목록 생성\n",
    "\n",
    "그래프 생성을 위해서 Unique한 토큰 목록 생성"
   ]
  },
  {
   "cell_type": "code",
   "execution_count": 165,
   "metadata": {},
   "outputs": [
    {
     "data": {
      "text/plain": [
       "{'바나나': 0, '사과': 1, '파인애플': 2, '딸기': 3}"
      ]
     },
     "execution_count": 165,
     "metadata": {},
     "output_type": "execute_result"
    }
   ],
   "source": [
    "token = ['딸기', '바나나', '사과', '딸기', '파인애플']\n",
    "nodes = ['바나나', '사과', '파인애플', '딸기']\n",
    "vocab = nodes\n",
    "\n",
    "vocab2idx = {val:idx for idx, val in enumerate(vocab)} #vocab을 인덱스로 변환\n",
    "idx2vocab = dict(enumerate(vocab))  #인덱스를 vocab으로 변환\n",
    "vocab2idx"
   ]
  },
  {
   "cell_type": "markdown",
   "metadata": {},
   "source": [
    "### 3) 그래프 생성 (weighted edge 계산)\n",
    "\n",
    "*   TextRank는 그래프 기반 모델\n",
    "*   각 단어(토큰)은 그래프의 노드(vertex) \n",
    "*   weighted_edge 행렬은 노드간 가중치 정보를 담고 있음\n",
    "*   weighted_edge[i][j] 는 i번째 단어와 j번째 단어의 가중치를 의미\n",
    "*   weighted_edge[i][j] 가 0인 경우는 노드간 연결이 없음을 의미\n",
    "*   모든 노드는 1로 초기화"
   ]
  },
  {
   "cell_type": "code",
   "execution_count": 166,
   "metadata": {},
   "outputs": [
    {
     "name": "stdout",
     "output_type": "stream",
     "text": [
      "[1. 1. 1. 1.]\n",
      "[[0.         0.5        0.         0.5       ]\n",
      " [0.5        0.         0.         0.5       ]\n",
      " [0.         0.         0.         1.        ]\n",
      " [0.33333333 0.33333333 0.33333333 0.        ]]\n"
     ]
    }
   ],
   "source": [
    "import numpy as np\n",
    "import math\n",
    "vocab_len = len(vocab)\n",
    "\n",
    "# 토큰별로 그래프 edge를 Matrix 형태로 생성\n",
    "weighted_edge = np.zeros((vocab_len,vocab_len))\n",
    "\n",
    "# 각 토큰 노드별로 스코어 1로 초기화\n",
    "score = np.ones((1,vocab_len))[0]\n",
    "print(score)\n",
    "# coocurrence를 판단하기 위한 window 사이즈 설정\n",
    "window_size = 2\n",
    "covered_coocurrences = np.zeros_like(weighted_edge)\n",
    "# weighted_edge 구현\n",
    "for i in range(len(token)-(window_size-1)):\n",
    "    covered_coocurrences[vocab2idx[token[i:i+window_size][0]],vocab2idx[token[i:i+window_size][1]]]=1\n",
    "    covered_coocurrences[vocab2idx[token[i:i+window_size][1]],vocab2idx[token[i:i+window_size][0]]]=1\n",
    "    \n",
    "covered_coocurrences\n",
    "\n",
    "weighted_edge = np.transpose(covered_coocurrences*(score/sum(covered_coocurrences)))\n",
    "print(weighted_edge)"
   ]
  },
  {
   "cell_type": "markdown",
   "metadata": {},
   "source": [
    "### 4) 각 노드의 score계산\n",
    "각 노드와 연결된 weighted edge의 값을 합산"
   ]
  },
  {
   "cell_type": "code",
   "execution_count": 167,
   "metadata": {
    "scrolled": true
   },
   "outputs": [
    {
     "data": {
      "text/plain": [
       "array([0.98370451, 0.98370451, 0.56562258, 1.46696839])"
      ]
     },
     "execution_count": 167,
     "metadata": {},
     "output_type": "execute_result"
    }
   ],
   "source": [
    "MAX_ITERATIONS = 50\n",
    "d=0.85\n",
    "threshold = 0.0001 #convergence threshold\n",
    "\n",
    "for iter in range(0,MAX_ITERATIONS):    \n",
    "    prev_score = np.copy(score)\n",
    "    score = (1-d)+d*np.dot(score/sum(covered_coocurrences),covered_coocurrences)\n",
    "    if max(abs(prev_score-score))<threshold:\n",
    "        break\n",
    "    pass\n",
    "score"
   ]
  },
  {
   "cell_type": "code",
   "execution_count": 168,
   "metadata": {},
   "outputs": [
    {
     "data": {
      "text/plain": [
       "0.9837045132067815"
      ]
     },
     "execution_count": 168,
     "metadata": {},
     "output_type": "execute_result"
    }
   ],
   "source": [
    "score_tuple=[(val, i) for i,val in enumerate(score)]\n",
    "sorted(score_tuple,reverse=True)\n",
    "score_tuple[0][0]"
   ]
  },
  {
   "cell_type": "markdown",
   "metadata": {},
   "source": [
    "### 5) 핵심 단어 추출"
   ]
  },
  {
   "cell_type": "code",
   "execution_count": 171,
   "metadata": {},
   "outputs": [
    {
     "name": "stdout",
     "output_type": "stream",
     "text": [
      "[3 1 0 2]\n",
      "\n",
      "=== 핵심키워드 ===\n",
      "딸기 : 1.4669683910772888\n",
      "사과 : 0.9837045132067815\n",
      "바나나 : 0.9837045132067815\n",
      "파인애플 : 0.5656225825091485\n"
     ]
    }
   ],
   "source": [
    "# score_tuple = [(val, i) for i,val in enumerate(score)]\n",
    "# sorted_score_tuple = sorted(score_tuple,reverse=True)\n",
    "# sorted_index = [val[1] for val in sorted_score_tuple]\n",
    "# print(sorted_index)\n",
    "print(np.argsort(score)[::-1])\n",
    "idx_score = np.argsort(score)[::-1]\n",
    "n = 4\n",
    "\n",
    "print(\"\\n=== 핵심키워드 ===\")\n",
    "for i in range(0,n):\n",
    "    print(str(idx2vocab[idx_score[i]])+\" : \" + str(score[idx_score][i]))"
   ]
  },
  {
   "cell_type": "code",
   "execution_count": 97,
   "metadata": {},
   "outputs": [
    {
     "data": {
      "text/plain": [
       "3"
      ]
     },
     "execution_count": 97,
     "metadata": {},
     "output_type": "execute_result"
    }
   ],
   "source": [
    "sorted_index[0]"
   ]
  },
  {
   "cell_type": "markdown",
   "metadata": {},
   "source": [
    "## 뉴스기사 실습"
   ]
  },
  {
   "cell_type": "code",
   "execution_count": 3,
   "metadata": {},
   "outputs": [
    {
     "data": {
      "text/plain": [
       "'과기정통부, 22일 유영민 장관 등 참석해 기념행사2021년까지 1516억원 투입, 510'"
      ]
     },
     "execution_count": 3,
     "metadata": {},
     "output_type": "execute_result"
    }
   ],
   "source": [
    "import requests \n",
    "from bs4 import BeautifulSoup\n",
    "\n",
    "def get_news_by_url(url):\n",
    "    res = requests.get(url)\n",
    "    bs = BeautifulSoup(res.content, 'html.parser')\n",
    "\n",
    "    title = bs.select('h3#articleTitle')[0].text #제목\n",
    "    content = bs.select('#articleBodyContents')[0].get_text().replace('\\n', \" \") #본문\n",
    "    content = content.replace(\"// flash 오류를 우회하기 위한 함수 추가 function _flash_removeCallback() {}\", \"\")\n",
    "    return  content.strip()\n",
    "\n",
    "doc = get_news_by_url('https://news.naver.com/main/read.nhn?mode=LSD&mid=sec&sid1=105&oid=018&aid=0004430108')\n",
    "doc[:50]"
   ]
  },
  {
   "cell_type": "markdown",
   "metadata": {},
   "source": [
    "### 1) 토큰화 (Tokenization)\n",
    "\n",
    "분석 텍스트 정제"
   ]
  },
  {
   "cell_type": "code",
   "execution_count": 173,
   "metadata": {
    "scrolled": true
   },
   "outputs": [],
   "source": [
    "from konlpy.tag import Mecab\n",
    "mecab = Mecab(dicpath = 'C:\\mecab\\mecab-ko-dic')\n",
    "\n",
    "nodes = [token for token in mecab.pos(doc) if token[1] in ['NNG','NNP']] #NNG, NNP를 스코어 계산 대상(노드)로 제한\n",
    "tokens = [token for token in mecab.pos(doc)] #탐색할 토큰 전체"
   ]
  },
  {
   "cell_type": "code",
   "execution_count": 174,
   "metadata": {
    "scrolled": false
   },
   "outputs": [
    {
     "name": "stdout",
     "output_type": "stream",
     "text": [
      "['과기', '정통부', ',', '22', '일', '유영민', '장관', '등', '참석', '해', '기념행사', '2021', '년', '까지', '1516', '억', '원', '투입', ',', '5100', '여종', '데이터', '구축', '민간', '클라우드', '통한', '외부', '연계', '체계', '도', '.', '.\"', '개방', '성', '강화', '\"[', '이', '데일리', '이재운', '기자', ']', '국가', '차원', '의', '빅', '데이터', '활용', '시대', '가', '열린다', '.', '새로운', '산업', '창출', '과', '기존', '산업', '의', '변화', '에', '이르', '는', '‘', '혁신', '성', '장', '’', '을', '위한', '센터', '가', '문', '을', '연다', '.', '10', '개', '분야', '에', '걸쳐', '‘', '데이터', '경제', '’', '의', '발전', '을', '위한', '정부', '의', '청사진', '을', '현실', '로', '구현', '하', '는', '데', '앞장선다는', '계획', '이', '다', '.', '22', '일', '과학', '기술', '정보', '통신부', '는', '서울', '중구', '대한', '상공', '회의소', '에서', '데이터', '생태', '계', '조성', '과', '혁신', '성장', '의', '기반', '마련', '을', '위한', '‘', '빅', '데이터', '플랫', '폼', '및', '센터', '’', '출범식', '행사', '를', '개최', '했', '다', '.', '유영민', '과기', '정통부', '장관', '을', '비롯', '해', '노웅래', '국회', '과학', '기술', '정보', '방송', '통신', '위원회', '위원장', '등', '300', '여', '명', '이', '참가', '했', '다', '.', '◇', '10', '개', '분야', '100', '개', '센터', '.', '.', '3', '년', '간', '1516', '억', '원', '투입', '이미지', ':', '픽사', '베이', '빅', '데이터', '는', '데이터', '활용', '을', '통해', '혁신', '성', '장', '을', '이루', '자는', '문재', '인', '정부', '의', '경제', '성장', '핵심', '요소', '중', '하나', '다', '.', '문재인', '대통령', '이', '직접', '올', '들', '어', '데이터', '활용', '과', '이', '에', '따른', '정보', '보호', '(', '보안', ')', '에', '대한', '중요', '성', '을', '강조', '하', '기', '도', '했', '다', '.', '이런', '맥락', '속', '에서', '빅', '데이터', '센터', '는', '공공', '과', '민간', '이', '협업', '해', '활용', '도', '높', '은', '양질', '의', '데이터', '를', '생산', '·', '구축', '하', '고', ',', '플랫', '폼', '은', '이', '를', '수집', '·', '분석', '·', '유통', '하', '는', '역할', '을', '담당', '한다', '.', '과기', '정통부', '는', '분야', '별', '플랫', '폼', '10', '개소', '와', '이', '와', '연계', '된', '기관', '별', '센터', '100', '개소', '를', '구축', '하', '는', '데', '3', '년', '간', '총', '1516', '억', '원', '을', '투입', '할', '계획', '이', '며', ',', '올해', '우선', '640', '억', '원', '규모', '의', '사업', '을', '추진', '하', '고', '있', '다', '.', '대상', '분야', '는', '△', '금융', '(', 'BC', '카드', ')', '△', '환경', '(', '한국', '수자원', '공사', ')', '△', '문화', '(', '한국', '문화', '정보원', ')', '△', '교통', '(', '한국', '교통', '연구원', ')', '△', '헬', '스케어', '(', '국립암센터', ')', '△', '유통', '·', '소비', '(', '매일', '방송', ')', '△', '통신', '(', 'KT', ')', '△', '중소기업', '(', '더', '존', '비즈', '온', ')', '△', '지역', '경제', '(', '경기도', '청', ')', '△', '산림', '(', '한국', '임업', '진', '흥원', ')', '등', '으로', '현재', '1', '차', '공모', '를', '통해', '72', '개', '빅', '데이터', '센터', '를', '선정', '했', '고', ',', '다음', '달', '8', '일', '까지', '2', '차', '공모', '를', '통해', '28', '개', '를', '추가', '선정', '해', '총', '100', '개', '를', '지원', ',', '운영', '할', '계획', '이', '다', '.', '이', '를', '통해', '데이터', '생태계', '를', '혁신', '하', '고', '기업', '의', '경쟁력', '을', '제고', '하', '는', '역할', '을', '수행', '한다', '.', '주요', '활용', '전략', '·', '사례', '를', '보', '면', '빅', '데이터', '활용', '을', '통해', '‘', '신', '(', '新', ')', '시장', '’', '을', '창출', '하', '는', '방안', '을', '담', '고', '있', '다', '.', '금융', '플랫', '폼', '의', '경우', '소', '상공', '인', '신용', '평가', '고도', '화', '등', '을', '통해', '금융', '취약', '계층', '대상', '중', '금리', '대출', '이', '자를', '2', '%', 'p', '절감', '해', '연간', '1', '조', '원', '의', '신규', '대출', '을', '창출', '할', '전망', '이', '다', '.', '유통', '·', '소비', '와', '중소기업', '플랫', '폼', '은', '소상', '공인', '이나', '중소기업', '의', '폐업', '률', '감소', '를', ',', '문화', '플랫', '폼', '은', '문화', '·', '예술', '관람', '률', '과', '생활', '체육', '참여', '율', '을', '높이', '는', '방안', '을', '모색', '한다', '.', '의료비', '절감', '(', '헬스', '케어', ')', '과', '기업', '의', '매출', '향상', '을', '통한', '산업', '육성', '(', '통신', '·', '산림', ')', '등', '도', '눈길', '을', '끈다', '.', '과기', '정통부', '제공', '◇', '2021', '년', '까지', '5100', '여종', '데이터', '구축', '.', '.', 'AI', '알고리즘', '제공', '도', '센터', '는', '우선', '분야', '별', '데이터', '부족', '문제', '를', '해소', '하', '기', '위해', '올해', '말', '까지', '시장', '수요', '가', '높', '은', '1400', '여종', '신규', '데이터', '를', '생산', 'ㆍ', '구축', '하', '고', ',', '사업', '이', '완료', '되', '는', '2021', '년', '까지', '총', '5100', '여종', '양질', '의', '풍부', '한', '데이터', '를', '생산', '·', '구축', '해', '시장', '에', '공급', '할', '계획', '이', '다', '.', '특히', '공공', '과', '민간', '사이', '데이터', '파일', '형식', '등', '이', '달라', '호환', '이', '제대로', '이뤄지지', '못한', '문제', '를', '해소', '하', '기', '위해', '개방', '형', '표준', '을', '적용', '하', '고', ',', '품질', '관리', '기준', '도', '마련', '해', '운영', '한다', '.', '기업', '들', '이', '실제', '활용', '가능', '한', '최신', '데이터', '를', '확보', '하', '는', '데', '도', '수개월', '이', '소요', '된다는', '문제점', '을', '개선', '하', '기', '위한', '방안', '도', '추진', '한다', '.', '센터', '와', '플랫폼', '간', '연계', '체계', '에', '는', '민간', '클라우드', '를', '기반', '으로', '활용', '하', '고', ',', '센터', '에', '축적', '된', '데이터', '도', '계속', '외부', '와', '개방', '·', '공유', '하', '며', '최신', '·', '연속', '성', '을', '확보', '한다는', '계획', '이', '다', '.', '100', '개', '센터', '에서', '수집', '된', '데이터', '를', '융합', '·', '분석', '한', '뒤', '맞춤', '형', '데이터', '제작', '등', '양질', '의', '데이터', '로', '재', '생산', '하', '고', ',', '기업', '들', '이', '필요', '로', '하', '는', '데이터', '를', '원하', '는', '형태', '로', '즉시', '활용', '할', '수', '있', '도록', '제공', '할', '계획', '이', '다', '.', '다양', '한', '분석', '도구', '는', '물론', '인공지능', '(', 'AI', ')', '학습', '알고리즘', '도', '제공', '해', '이용자', '가', '보다', '사용', '하', '기', '편리', '한', '환경', '을', '제공', '한다', '.', '이', '밖', '에', '필요', '한', '데이터', '를', '쉽', '게', '등록', '하', '고', '검색', '할', '수', '있', '도록', '기준', '을', '마련', '하', '고', ',', '데이터', '보유', '와', '관리', '에', '대한', '체계', '(', '거버넌스', ')', '를', '논의', '하', '는', '‘', '데이터', '얼라이언스', '’', '를', '구성', '해', '보다', '안', '전하', '게', '이용', '하', '는', '방안', '도', '마련', '했', '다', '.', '유영민', '과기', '정통부', '장관', '은', '“', '오늘', '출범식', '은', '대한민국', '이', '데이터', '강국', '으로', '가', '기', '위한', '초석', '을', '놓', '은', '자리', '”', '라며', '“', '세계', '주요', '국', '들', '보다', '데이터', '경제', '로', '나아가', '는', '발걸음', '이', '다소', '늦', '었', '지만', ',', '빅', '데이터', '플랫', '폼', '과', '센터', '를', '지렛대', '로', '우리나라', '의', '낙후', '된', '데이터', '생태계', '를', '혁신', '하', '고', '기업', '의', '경쟁력', '을', '한', '단계', '제고', '할', '수', '있', '도록', '정책', '적', '역량', '을', '집중', '하', '겠', '다', '”', '고', '밝혔', '다', '.', '이재운', '(', 'jwlee', '@', 'edaily', '.', 'co', '.', 'kr', ')', '네이버', '홈', '에서', '‘', '이', '데일리', '’', '뉴스', '[', '구독', '하', '기', '▶]', '꿀', '잼', '가득', '[', '영상', '보', '기', '▶]', ',', '청춘', '뉘', '우스', '~', '[', '스냅', '타임', '▶]＜ⓒ', '종합', '경제', '정보', '미디어', '이', '데일리', '-', '무단', '전재', '&', '재', '배포', '금지', '＞']\n"
     ]
    }
   ],
   "source": [
    "token = [val[0] for val in tokens]\n",
    "vocab = list(set([val[0] for val in nodes]))\n",
    "print(token)\n",
    "vocab2idx = {val:idx for idx, val in enumerate(vocab)} #vocab을 인덱스로 변환\n",
    "idx2vocab = dict(enumerate(vocab))  #인덱스를 vocab으로 변환"
   ]
  },
  {
   "cell_type": "markdown",
   "metadata": {},
   "source": [
    "### 2) 그래프 생성 (weighted edge 계산)"
   ]
  },
  {
   "cell_type": "code",
   "execution_count": 175,
   "metadata": {},
   "outputs": [
    {
     "name": "stdout",
     "output_type": "stream",
     "text": [
      "252\n",
      "[[0.         0.         0.         ... 0.         0.         0.        ]\n",
      " [0.         0.         0.         ... 0.         0.11111111 0.        ]\n",
      " [0.         0.         0.         ... 0.         0.         0.        ]\n",
      " ...\n",
      " [0.         0.         0.         ... 0.         0.         0.        ]\n",
      " [0.         0.5        0.         ... 0.         0.         0.        ]\n",
      " [0.         0.         0.         ... 0.         0.         0.        ]]\n",
      "[[0. 0. 0. ... 0. 0. 0.]\n",
      " [0. 0. 0. ... 0. 1. 0.]\n",
      " [0. 0. 0. ... 0. 0. 0.]\n",
      " ...\n",
      " [0. 0. 0. ... 0. 0. 0.]\n",
      " [0. 1. 0. ... 0. 0. 0.]\n",
      " [0. 0. 0. ... 0. 0. 0.]]\n"
     ]
    },
    {
     "name": "stderr",
     "output_type": "stream",
     "text": [
      "C:\\Users\\YOON\\anaconda3\\envs\\nlp\\lib\\site-packages\\ipykernel_launcher.py:34: RuntimeWarning: divide by zero encountered in true_divide\n",
      "C:\\Users\\YOON\\anaconda3\\envs\\nlp\\lib\\site-packages\\ipykernel_launcher.py:34: RuntimeWarning: invalid value encountered in multiply\n"
     ]
    }
   ],
   "source": [
    "import numpy as np\n",
    "import math\n",
    "vocab_len = len(vocab)\n",
    "\n",
    "# 토큰별로 그래프 edge를 Matrix 형태로 생성\n",
    "weighted_edge = np.zeros((vocab_len,vocab_len))\n",
    "\n",
    "# 각 토큰 노드별로 스코어 1로 초기화\n",
    "score = np.ones((1,vocab_len))[0]\n",
    "print(len(score))\n",
    "# coocurrence를 판단하기 위한 window 사이즈 설정\n",
    "window_size = 5\n",
    "covered_coocurrences = np.zeros_like(weighted_edge)\n",
    "# weighted_edge 구현\n",
    "for i in range(len(token)-(window_size-1)):\n",
    "    if token[i] in vocab:\n",
    "        if i<window_size-1:\n",
    "            win_token = token[:i+window_size]\n",
    "            win_token.remove(token[i])\n",
    "            for tok in win_token:m\n",
    "                if tok in vocab:\n",
    "                    covered_coocurrences[vocab2idx[tok], vocab2idx[token[i]]] = 1\n",
    "                    covered_coocurrences[vocab2idx[token[i]], vocab2idx[tok]] = 1\n",
    "        else :\n",
    "            win_token = token[i-window_size+1:i+window_size]\n",
    "            win_token.remove(token[i])\n",
    "            for tok in win_token:\n",
    "                if tok in vocab:\n",
    "                    covered_coocurrences[vocab2idx[tok], vocab2idx[token[i]]] = 1\n",
    "                    covered_coocurrences[vocab2idx[token[i]], vocab2idx[tok]] = 1\n",
    "    \n",
    "covered_coocurrences\n",
    "sum(covered_coocurrences)\n",
    "weighted_edge = np.transpose(covered_coocurrences*(score/sum(covered_coocurrences)))\n",
    "print(weighted_edge)\n",
    "print(covered_coocurrences)"
   ]
  },
  {
   "cell_type": "markdown",
   "metadata": {},
   "source": [
    "### 3) 각 노드의 score계산"
   ]
  },
  {
   "cell_type": "code",
   "execution_count": 160,
   "metadata": {},
   "outputs": [
    {
     "data": {
      "text/plain": [
       "array([ 0.60446443,  1.41890499,  0.64994479,  0.99759924,  0.54424674,\n",
       "        0.67958754,  1.65060301,  0.65077514,  0.79874191,  0.78167425,\n",
       "        1.58359585,  0.75441982,  0.62870625,  0.80221281,  1.06170421,\n",
       "        0.73968052,  1.09337066,  1.03473799,  0.47964696,  1.28472265,\n",
       "        0.56716512,  1.22223461,  1.2007146 ,  2.19615374,  3.72266108,\n",
       "        1.86461649,  0.96531607,  0.66978285,  0.69409716,  0.72506818,\n",
       "        0.88819966,  0.68458884,  0.83363846,  0.50527746,  0.80825163,\n",
       "        1.09899316,  0.74154347,  1.34306888,  0.46671696,  0.66290582,\n",
       "        0.62959279,  0.63357929,  1.13927448,  0.40899153,  0.56214676,\n",
       "        0.5707823 ,  0.7546089 ,  1.10784609,  0.68056267,  0.86921259,\n",
       "        1.70227683,  0.60369385,  0.50919907,  1.40382825,  0.41222349,\n",
       "        0.59568804,  0.84509021,  0.65827062,  0.73637297,  1.42938114,\n",
       "        0.97459798,  0.68560789,  0.75441982,  0.9732938 ,  0.70356767,\n",
       "        0.87785458,  0.72131239,  2.56182766,  0.85206868,  1.17911052,\n",
       "        0.38981434,  0.96145717,  0.40557139,  1.44595596,  2.94129536,\n",
       "        0.82121266,  0.91841633,  1.0932338 ,  1.67999536,  0.73968052,\n",
       "        0.84672985,  0.80825163,  1.67738118,  0.81653775,  1.8533701 ,\n",
       "        0.6822464 ,  1.02475331,  0.8195179 ,  1.14617927,  0.77278553,\n",
       "        0.96911711,  0.66411721,  1.36343409,  1.61356368,  2.86098985,\n",
       "        0.78173267,  1.84626756,  0.57531853,  0.76266692,  1.94172181,\n",
       "        0.97828024,  0.77767566,  0.81848478,  0.73124919,  0.67697011,\n",
       "        0.63137847,  0.81697295,  0.75808322,  0.89702128,  2.20098982,\n",
       "        0.94977064,  0.78468901,  1.33122144,  0.62484225,  3.06709863,\n",
       "        0.61797801,  0.86802476,  0.43767339,  1.88233823,  2.64389283,\n",
       "        0.90418696,  1.9627563 ,  0.45216294,  1.05705869,  0.60877226,\n",
       "        0.66213739,  0.52265226,  0.34190581,  0.31252332,  0.64232188,\n",
       "        1.52557816,  1.97227632,  0.77525077,  0.62892292,  0.84529612,\n",
       "        0.75808322,  2.01983835,  1.32588861,  0.81370876,  0.62734199,\n",
       "        0.70339073,  1.40303131,  0.67425659,  0.56892563,  0.65827062,\n",
       "        0.83173308,  0.75691883,  0.47758693,  0.98786119,  0.82715356,\n",
       "        0.67040108,  0.61014711,  1.93276359,  0.74845172,  1.31536898,\n",
       "        1.17247942,  1.46828572,  1.09905004,  0.72538777,  0.5864268 ,\n",
       "        0.64814695,  0.75192091,  1.11338801,  0.69290085,  1.00059834,\n",
       "       10.53270313,  0.84444457,  0.70407813,  0.81653775,  0.63283947,\n",
       "        0.57988289,  0.66290582,  0.97425862,  0.79760585,  0.57408228,\n",
       "        1.7035549 ,  0.97589484,  1.16416878,  0.25888177,  1.31120823,\n",
       "        0.44849123,  0.75496297,  2.97079944,  0.84757207,  0.71550682,\n",
       "        0.25888177,  0.7312613 ,  0.82377422,  0.5843711 ,  0.69290085,\n",
       "        0.54783716,  0.66105312,  0.84923185,  0.4643656 ,  0.65471808,\n",
       "        1.29879524,  1.16375126,  0.86895783,  1.39295129,  0.67365389,\n",
       "        0.68567368,  0.6461668 ,  0.82377422,  0.82324071,  0.68994265,\n",
       "        0.84529612,  0.9437484 ,  0.75865954,  0.55588857,  0.97242342,\n",
       "        0.70843158,  0.49885735,  0.9824998 ,  0.56673314,  0.84034621,\n",
       "        0.70407813,  1.6603196 ,  0.73042417,  0.77603979,  0.53471554,\n",
       "        0.75987865,  2.46668023,  0.85036956,  0.85036956,  0.59398258,\n",
       "        0.93134725,  1.28487494,  0.79388527,  1.28921673,  0.75192091,\n",
       "        0.5707823 ,  0.53906727,  0.62330258,  1.14814392,  0.57531853,\n",
       "        0.66716034,  0.69290085,  0.66155026,  0.63206181,  1.05995458,\n",
       "        1.17624505,  1.12767314,  0.45763283,  0.50412933,  1.23714783,\n",
       "        0.43745519,  1.07923902,  0.96911711,  3.92697991,  0.82377422,\n",
       "        0.58463293,  0.71098598])"
      ]
     },
     "execution_count": 160,
     "metadata": {},
     "output_type": "execute_result"
    }
   ],
   "source": [
    "MAX_ITERATIONS = 50\n",
    "d=0.85\n",
    "threshold = 0.0001 #convergence threshold\n",
    "\n",
    "for iter in range(0,MAX_ITERATIONS):    \n",
    "    prev_score = np.copy(score)\n",
    "    score = (1-d)+d*np.dot(score/sum(covered_coocurrences),covered_coocurrences)\n",
    "    if max(abs(prev_score-score))<threshold:\n",
    "        break\n",
    "    pass\n",
    "score"
   ]
  },
  {
   "cell_type": "code",
   "execution_count": 161,
   "metadata": {},
   "outputs": [
    {
     "data": {
      "text/plain": [
       "0.6044644307848853"
      ]
     },
     "execution_count": 161,
     "metadata": {},
     "output_type": "execute_result"
    }
   ],
   "source": [
    "score_tuple=[(val, i) for i,val in enumerate(score)]\n",
    "sorted(score_tuple,reverse=True)\n",
    "score_tuple[0][0]"
   ]
  },
  {
   "cell_type": "markdown",
   "metadata": {},
   "source": [
    "### 4)핵심 단어 추출"
   ]
  },
  {
   "cell_type": "code",
   "execution_count": 163,
   "metadata": {},
   "outputs": [
    {
     "name": "stdout",
     "output_type": "stream",
     "text": [
      "[165, 248, 24, 114, 182, 74, 94, 119, 67, 221, 109, 23, 136, 131, 121, 99, 152, 118, 25, 84, 96, 175, 50, 78, 82, 216, 6, 93, 10, 130, 156, 73, 59, 1, 53, 141, 198, 92, 37, 112, 137, 154, 179, 195, 228, 226, 19, 244, 21, 22, 69, 240, 155, 177, 196, 233, 88, 42, 241, 162, 47, 157, 35, 16, 77, 246, 14, 239, 123, 17, 86, 164, 3, 148, 212, 100, 176, 60, 172, 63, 209, 247, 90, 26, 71, 110, 206, 225, 76, 120, 108, 30, 65, 49, 197, 116, 68, 223, 222, 192, 183, 80, 205, 134, 56, 166, 214, 32, 145, 149, 249, 202, 187, 203, 75, 87, 102, 106, 168, 83, 138, 81, 34, 13, 8, 173, 227, 111, 95, 9, 101, 218, 132, 89, 98, 220, 207, 135, 107, 146, 181, 46, 62, 11, 229, 161, 153, 36, 79, 15, 58, 186, 103, 217, 158, 29, 66, 184, 251, 210, 215, 167, 64, 140, 28, 236, 189, 163, 204, 200, 61, 31, 85, 48, 5, 104, 142, 199, 150, 27, 235, 91, 171, 39, 125, 237, 191, 144, 57, 194, 7, 2, 160, 201, 129, 41, 169, 238, 105, 40, 133, 12, 139, 113, 232, 115, 151, 124, 0, 51, 55, 224, 159, 250, 188, 170, 234, 97, 174, 230, 45, 143, 20, 213, 44, 208, 190, 4, 231, 219, 126, 52, 33, 243, 211, 18, 147, 38, 193, 242, 122, 180, 117, 245, 54, 43, 72, 70, 127, 128, 185, 178]\n",
      "\n",
      "=== 핵심키워드 ===\n",
      "데이터 : 10.532703132445805\n",
      "센터 : 3.9269799142614987\n",
      "활용 : 3.7226610820377175\n",
      "폼 : 3.0670986281772055\n",
      "플랫 : 2.970799440484202\n",
      "빅 : 2.941295363327612\n",
      "경제 : 2.8609898535730736\n",
      "정보 : 2.643892825953057\n",
      "데일리 : 2.561827657114068\n",
      "기업 : 2.4666802342520007\n"
     ]
    }
   ],
   "source": [
    "score_tuple = [(val, i) for i,val in enumerate(score)]\n",
    "sorted_score_tuple = sorted(score_tuple,reverse=True)\n",
    "sorted_index = [val[1] for val in sorted_score_tuple]\n",
    "print(sorted_index)\n",
    "n = 10\n",
    "\n",
    "print(\"\\n=== 핵심키워드 ===\")\n",
    "for i in range(0,n):\n",
    "    print(str(idx2vocab[sorted_index[i]])+\" : \" + str(score[sorted_index[i]]))"
   ]
  },
  {
   "cell_type": "markdown",
   "metadata": {},
   "source": [
    "### networks 패키지 이용하는 방법"
   ]
  },
  {
   "cell_type": "markdown",
   "metadata": {},
   "source": [
    "  ### 1) 토큰화 (Tokenization)\n",
    "\n",
    "  분석 텍스트 정제"
   ]
  },
  {
   "cell_type": "code",
   "execution_count": 4,
   "metadata": {},
   "outputs": [
    {
     "name": "stdout",
     "output_type": "stream",
     "text": [
      "[('과기', 'NNG'), ('정통부', 'NNG'), ('유영민', 'NNP'), ('장관', 'NNG'), ('참석', 'NNG'), ('기념행사', 'NNG'), ('투입', 'NNG'), ('여종', 'NNG'), ('데이터', 'NNG'), ('구축', 'NNG'), ('민간', 'NNG'), ('클라우드', 'NNP'), ('외부', 'NNG'), ('연계', 'NNG'), ('체계', 'NNG'), ('개방', 'NNG'), ('강화', 'NNG'), ('데일리', 'NNP'), ('이재운', 'NNP'), ('기자', 'NNG'), ('국가', 'NNG'), ('차원', 'NNG'), ('빅', 'NNG'), ('데이터', 'NNG'), ('활용', 'NNG'), ('시대', 'NNG'), ('산업', 'NNG'), ('창출', 'NNG'), ('기존', 'NNG'), ('산업', 'NNG'), ('변화', 'NNG'), ('혁신', 'NNG'), ('장', 'NNG'), ('센터', 'NNG'), ('문', 'NNG'), ('분야', 'NNG'), ('데이터', 'NNG'), ('경제', 'NNG'), ('발전', 'NNG'), ('정부', 'NNG'), ('청사진', 'NNG'), ('현실', 'NNG'), ('구현', 'NNG'), ('계획', 'NNG'), ('과학', 'NNG'), ('기술', 'NNG'), ('정보', 'NNG'), ('통신부', 'NNG'), ('서울', 'NNP'), ('중구', 'NNP'), ('대한', 'NNP'), ('상공', 'NNG'), ('회의소', 'NNG'), ('데이터', 'NNG'), ('생태', 'NNG'), ('조성', 'NNG'), ('혁신', 'NNG'), ('성장', 'NNG'), ('기반', 'NNG'), ('마련', 'NNG'), ('빅', 'NNG'), ('데이터', 'NNG'), ('플랫', 'NNG'), ('폼', 'NNG'), ('센터', 'NNG'), ('출범식', 'NNG'), ('행사', 'NNG'), ('개최', 'NNG'), ('유영민', 'NNP'), ('과기', 'NNG'), ('정통부', 'NNG'), ('장관', 'NNG'), ('노웅래', 'NNP'), ('국회', 'NNG'), ('과학', 'NNG'), ('기술', 'NNG'), ('정보', 'NNG'), ('방송', 'NNG'), ('통신', 'NNG'), ('위원회', 'NNG'), ('위원장', 'NNG'), ('참가', 'NNG'), ('분야', 'NNG'), ('센터', 'NNG'), ('간', 'NNG'), ('투입', 'NNG'), ('이미지', 'NNG'), ('픽사', 'NNP'), ('베이', 'NNP'), ('빅', 'NNP'), ('데이터', 'NNG'), ('데이터', 'NNG'), ('활용', 'NNG'), ('혁신', 'NNG'), ('장', 'NNG'), ('문재', 'NNG'), ('정부', 'NNG'), ('경제', 'NNG'), ('성장', 'NNG'), ('핵심', 'NNG'), ('요소', 'NNG'), ('문재인', 'NNP'), ('대통령', 'NNG'), ('데이터', 'NNG'), ('활용', 'NNG'), ('정보', 'NNG'), ('보호', 'NNG'), ('보안', 'NNP'), ('중요', 'NNG'), ('강조', 'NNG'), ('맥락', 'NNG'), ('속', 'NNG'), ('빅', 'NNG'), ('데이터', 'NNG'), ('센터', 'NNG'), ('공공', 'NNG'), ('민간', 'NNG'), ('협업', 'NNG'), ('활용', 'NNG'), ('양질', 'NNG'), ('데이터', 'NNG'), ('생산', 'NNG'), ('구축', 'NNG'), ('플랫', 'NNG'), ('폼', 'NNG'), ('수집', 'NNG'), ('분석', 'NNG'), ('유통', 'NNG'), ('역할', 'NNG'), ('담당', 'NNG'), ('과기', 'NNG'), ('정통부', 'NNG'), ('분야', 'NNG'), ('플랫', 'NNG'), ('폼', 'NNG'), ('연계', 'NNG'), ('기관', 'NNG'), ('센터', 'NNG'), ('구축', 'NNG'), ('투입', 'NNG'), ('계획', 'NNG'), ('올해', 'NNG'), ('규모', 'NNG'), ('사업', 'NNG'), ('추진', 'NNG'), ('대상', 'NNG'), ('분야', 'NNG'), ('금융', 'NNG'), ('카드', 'NNG'), ('환경', 'NNG'), ('한국', 'NNP'), ('수자원', 'NNG'), ('공사', 'NNG'), ('문화', 'NNG'), ('한국', 'NNP'), ('문화', 'NNG'), ('정보원', 'NNG'), ('교통', 'NNG'), ('한국', 'NNP'), ('교통', 'NNG'), ('연구원', 'NNG'), ('헬', 'NNP'), ('스케어', 'NNP'), ('국립암센터', 'NNP'), ('유통', 'NNG'), ('소비', 'NNG'), ('매일', 'NNG'), ('방송', 'NNG'), ('통신', 'NNG'), ('중소기업', 'NNG'), ('비즈', 'NNG'), ('지역', 'NNG'), ('경제', 'NNG'), ('경기도', 'NNP'), ('청', 'NNG'), ('산림', 'NNG'), ('한국', 'NNP'), ('임업', 'NNG'), ('흥원', 'NNP'), ('공모', 'NNG'), ('빅', 'NNG'), ('데이터', 'NNG'), ('센터', 'NNG'), ('선정', 'NNG'), ('다음', 'NNG'), ('달', 'NNG'), ('공모', 'NNG'), ('추가', 'NNG'), ('선정', 'NNG'), ('지원', 'NNG'), ('운영', 'NNG'), ('계획', 'NNG'), ('데이터', 'NNG'), ('생태계', 'NNG'), ('혁신', 'NNG'), ('기업', 'NNG'), ('경쟁력', 'NNG'), ('제고', 'NNG'), ('역할', 'NNG'), ('수행', 'NNG'), ('주요', 'NNG'), ('활용', 'NNG'), ('전략', 'NNG'), ('사례', 'NNG'), ('빅', 'NNG'), ('데이터', 'NNG'), ('활용', 'NNG'), ('신', 'NNG'), ('新', 'NNG'), ('시장', 'NNG'), ('창출', 'NNG'), ('방안', 'NNG'), ('금융', 'NNG'), ('플랫', 'NNG'), ('폼', 'NNG'), ('경우', 'NNG'), ('소', 'NNG'), ('상공', 'NNG'), ('신용', 'NNG'), ('평가', 'NNG'), ('고도', 'NNG'), ('금융', 'NNG'), ('취약', 'NNG'), ('계층', 'NNG'), ('대상', 'NNG'), ('금리', 'NNG'), ('대출', 'NNG'), ('절감', 'NNG'), ('연간', 'NNG'), ('신규', 'NNG'), ('대출', 'NNG'), ('창출', 'NNG'), ('전망', 'NNG'), ('유통', 'NNG'), ('소비', 'NNG'), ('중소기업', 'NNG'), ('플랫', 'NNG'), ('폼', 'NNG'), ('소상', 'NNG'), ('공인', 'NNG'), ('중소기업', 'NNG'), ('폐업', 'NNG'), ('감소', 'NNG'), ('문화', 'NNG'), ('플랫', 'NNG'), ('폼', 'NNG'), ('문화', 'NNG'), ('예술', 'NNG'), ('관람', 'NNG'), ('생활', 'NNG'), ('체육', 'NNG'), ('참여', 'NNG'), ('방안', 'NNG'), ('모색', 'NNG'), ('의료비', 'NNG'), ('절감', 'NNG'), ('헬스', 'NNG'), ('케어', 'NNG'), ('기업', 'NNG'), ('매출', 'NNG'), ('향상', 'NNG'), ('산업', 'NNG'), ('육성', 'NNG'), ('통신', 'NNG'), ('산림', 'NNG'), ('눈길', 'NNG'), ('과기', 'NNG'), ('정통부', 'NNG'), ('제공', 'NNG'), ('여종', 'NNG'), ('데이터', 'NNG'), ('구축', 'NNG'), ('알고리즘', 'NNG'), ('제공', 'NNG'), ('센터', 'NNG'), ('분야', 'NNG'), ('데이터', 'NNG'), ('부족', 'NNG'), ('문제', 'NNG'), ('해소', 'NNG'), ('올해', 'NNG'), ('시장', 'NNG'), ('수요', 'NNG'), ('여종', 'NNG'), ('신규', 'NNG'), ('데이터', 'NNG'), ('생산', 'NNG'), ('구축', 'NNG'), ('사업', 'NNG'), ('완료', 'NNG'), ('여종', 'NNG'), ('양질', 'NNG'), ('데이터', 'NNG'), ('생산', 'NNG'), ('구축', 'NNG'), ('시장', 'NNG'), ('공급', 'NNG'), ('계획', 'NNG'), ('공공', 'NNG'), ('민간', 'NNG'), ('사이', 'NNG'), ('데이터', 'NNG'), ('파일', 'NNG'), ('형식', 'NNG'), ('호환', 'NNG'), ('문제', 'NNG'), ('해소', 'NNG'), ('개방', 'NNG'), ('표준', 'NNG'), ('적용', 'NNG'), ('품질', 'NNG'), ('관리', 'NNG'), ('기준', 'NNG'), ('마련', 'NNG'), ('운영', 'NNG'), ('기업', 'NNG'), ('실제', 'NNG'), ('활용', 'NNG'), ('가능', 'NNG'), ('최신', 'NNG'), ('데이터', 'NNG'), ('확보', 'NNG'), ('수개월', 'NNG'), ('소요', 'NNG'), ('문제점', 'NNG'), ('개선', 'NNG'), ('방안', 'NNG'), ('추진', 'NNG'), ('센터', 'NNG'), ('플랫폼', 'NNG'), ('연계', 'NNG'), ('체계', 'NNG'), ('민간', 'NNG'), ('클라우드', 'NNP'), ('기반', 'NNG'), ('활용', 'NNG'), ('센터', 'NNG'), ('축적', 'NNG'), ('데이터', 'NNG'), ('외부', 'NNG'), ('개방', 'NNG'), ('공유', 'NNG'), ('최신', 'NNG'), ('연속', 'NNG'), ('확보', 'NNG'), ('계획', 'NNG'), ('센터', 'NNG'), ('수집', 'NNG'), ('데이터', 'NNG'), ('융합', 'NNG'), ('분석', 'NNG'), ('뒤', 'NNG'), ('맞춤', 'NNG'), ('데이터', 'NNG'), ('제작', 'NNG'), ('양질', 'NNG'), ('데이터', 'NNG'), ('생산', 'NNG'), ('기업', 'NNG'), ('필요', 'NNG'), ('데이터', 'NNG'), ('형태', 'NNG'), ('활용', 'NNG'), ('제공', 'NNG'), ('계획', 'NNG'), ('분석', 'NNG'), ('도구', 'NNG'), ('인공지능', 'NNP'), ('학습', 'NNG'), ('알고리즘', 'NNG'), ('제공', 'NNG'), ('이용자', 'NNP'), ('사용', 'NNG'), ('편리', 'NNG'), ('환경', 'NNG'), ('제공', 'NNG'), ('밖', 'NNG'), ('필요', 'NNG'), ('데이터', 'NNG'), ('등록', 'NNG'), ('검색', 'NNG'), ('기준', 'NNG'), ('마련', 'NNG'), ('데이터', 'NNG'), ('보유', 'NNG'), ('관리', 'NNG'), ('체계', 'NNG'), ('거버넌스', 'NNP'), ('논의', 'NNG'), ('데이터', 'NNG'), ('얼라이언스', 'NNP'), ('구성', 'NNG'), ('이용', 'NNG'), ('방안', 'NNG'), ('마련', 'NNG'), ('유영민', 'NNP'), ('과기', 'NNG'), ('정통부', 'NNG'), ('장관', 'NNG'), ('오늘', 'NNG'), ('출범식', 'NNG'), ('대한민국', 'NNP'), ('데이터', 'NNG'), ('강국', 'NNG'), ('초석', 'NNG'), ('자리', 'NNG'), ('세계', 'NNG'), ('주요', 'NNG'), ('국', 'NNG'), ('데이터', 'NNG'), ('경제', 'NNG'), ('발걸음', 'NNG'), ('빅', 'NNG'), ('데이터', 'NNG'), ('플랫', 'NNG'), ('폼', 'NNG'), ('센터', 'NNG'), ('지렛대', 'NNG'), ('우리나라', 'NNG'), ('낙후', 'NNG'), ('데이터', 'NNG'), ('생태계', 'NNG'), ('혁신', 'NNG'), ('기업', 'NNG'), ('경쟁력', 'NNG'), ('단계', 'NNG'), ('제고', 'NNG'), ('정책', 'NNG'), ('역량', 'NNG'), ('집중', 'NNG'), ('이재운', 'NNP'), ('네이버', 'NNP'), ('홈', 'NNG'), ('데일리', 'NNP'), ('뉴스', 'NNG'), ('구독', 'NNG'), ('꿀', 'NNG'), ('잼', 'NNG'), ('영상', 'NNG'), ('청춘', 'NNG'), ('뉘', 'NNG'), ('우스', 'NNG'), ('스냅', 'NNG'), ('타임', 'NNG'), ('종합', 'NNG'), ('경제', 'NNG'), ('정보', 'NNG'), ('미디어', 'NNG'), ('데일리', 'NNP'), ('무단', 'NNG'), ('전재', 'NNG'), ('배포', 'NNG'), ('금지', 'NNG')]\n",
      "[('과기', 'NNG'), ('정통부', 'NNG'), (',', 'SC'), ('22', 'SN'), ('일', 'NNBC'), ('유영민', 'NNP'), ('장관', 'NNG'), ('등', 'NNB'), ('참석', 'NNG'), ('해', 'XSV+EC'), ('기념행사', 'NNG'), ('2021', 'SN'), ('년', 'NNBC'), ('까지', 'JX'), ('1516', 'SN'), ('억', 'NR'), ('원', 'NNBC'), ('투입', 'NNG'), (',', 'SC'), ('5100', 'SN'), ('여종', 'NNG'), ('데이터', 'NNG'), ('구축', 'NNG'), ('민간', 'NNG'), ('클라우드', 'NNP'), ('통한', 'VV+ETM'), ('외부', 'NNG'), ('연계', 'NNG'), ('체계', 'NNG'), ('도', 'JX'), ('.', 'SF'), ('.\"', 'SY'), ('개방', 'NNG'), ('성', 'XSN'), ('강화', 'NNG'), ('\"[', 'SY'), ('이', 'JKS'), ('데일리', 'NNP'), ('이재운', 'NNP'), ('기자', 'NNG'), (']', 'SSC'), ('국가', 'NNG'), ('차원', 'NNG'), ('의', 'JKG'), ('빅', 'NNG'), ('데이터', 'NNG'), ('활용', 'NNG'), ('시대', 'NNG'), ('가', 'JKS'), ('열린다', 'VV+EF'), ('.', 'SF'), ('새로운', 'VA+ETM'), ('산업', 'NNG'), ('창출', 'NNG'), ('과', 'JC'), ('기존', 'NNG'), ('산업', 'NNG'), ('의', 'JKG'), ('변화', 'NNG'), ('에', 'JKB'), ('이르', 'VV'), ('는', 'ETM'), ('‘', 'SY'), ('혁신', 'NNG'), ('성', 'XSN'), ('장', 'NNG'), ('’', 'SY'), ('을', 'JKO'), ('위한', 'VV+ETM'), ('센터', 'NNG'), ('가', 'JKS'), ('문', 'NNG'), ('을', 'JKO'), ('연다', 'VV+EC'), ('.', 'SY'), ('10', 'SN'), ('개', 'NNBC'), ('분야', 'NNG'), ('에', 'JKB'), ('걸쳐', 'VV+EC'), ('‘', 'SY'), ('데이터', 'NNG'), ('경제', 'NNG'), ('’', 'SY'), ('의', 'JKG'), ('발전', 'NNG'), ('을', 'JKO'), ('위한', 'VV+ETM'), ('정부', 'NNG'), ('의', 'JKG'), ('청사진', 'NNG'), ('을', 'JKO'), ('현실', 'NNG'), ('로', 'JKB'), ('구현', 'NNG'), ('하', 'XSV'), ('는', 'ETM'), ('데', 'NNB'), ('앞장선다는', 'VV+ETM'), ('계획', 'NNG'), ('이', 'VCP'), ('다', 'EF'), ('.', 'SF'), ('22', 'SN'), ('일', 'NNBC'), ('과학', 'NNG'), ('기술', 'NNG'), ('정보', 'NNG'), ('통신부', 'NNG'), ('는', 'JX'), ('서울', 'NNP'), ('중구', 'NNP'), ('대한', 'NNP'), ('상공', 'NNG'), ('회의소', 'NNG'), ('에서', 'JKB'), ('데이터', 'NNG'), ('생태', 'NNG'), ('계', 'XSN'), ('조성', 'NNG'), ('과', 'JC'), ('혁신', 'NNG'), ('성장', 'NNG'), ('의', 'JKG'), ('기반', 'NNG'), ('마련', 'NNG'), ('을', 'JKO'), ('위한', 'VV+ETM'), ('‘', 'SY'), ('빅', 'NNG'), ('데이터', 'NNG'), ('플랫', 'NNG'), ('폼', 'NNG'), ('및', 'MAJ'), ('센터', 'NNG'), ('’', 'SY'), ('출범식', 'NNG'), ('행사', 'NNG'), ('를', 'JKO'), ('개최', 'NNG'), ('했', 'XSV+EP'), ('다', 'EF'), ('.', 'SF'), ('유영민', 'NNP'), ('과기', 'NNG'), ('정통부', 'NNG'), ('장관', 'NNG'), ('을', 'JKO'), ('비롯', 'XR'), ('해', 'XSA+EC'), ('노웅래', 'NNP'), ('국회', 'NNG'), ('과학', 'NNG'), ('기술', 'NNG'), ('정보', 'NNG'), ('방송', 'NNG'), ('통신', 'NNG'), ('위원회', 'NNG'), ('위원장', 'NNG'), ('등', 'NNB'), ('300', 'SN'), ('여', 'XSN'), ('명', 'NNBC'), ('이', 'JKS'), ('참가', 'NNG'), ('했', 'XSV+EP'), ('다', 'EF'), ('.', 'SF'), ('◇', 'SY'), ('10', 'SN'), ('개', 'NNBC'), ('분야', 'NNG'), ('100', 'SN'), ('개', 'NNBC'), ('센터', 'NNG'), ('.', 'SF'), ('.', 'SY'), ('3', 'SN'), ('년', 'NNBC'), ('간', 'NNG'), ('1516', 'SN'), ('억', 'NR'), ('원', 'NNBC'), ('투입', 'NNG'), ('이미지', 'NNG'), (':', 'SC'), ('픽사', 'NNP'), ('베이', 'NNP'), ('빅', 'NNP'), ('데이터', 'NNG'), ('는', 'JX'), ('데이터', 'NNG'), ('활용', 'NNG'), ('을', 'JKO'), ('통해', 'VV+EC'), ('혁신', 'NNG'), ('성', 'XSN'), ('장', 'NNG'), ('을', 'JKO'), ('이루', 'VV'), ('자는', 'ETM'), ('문재', 'NNG'), ('인', 'VCP+ETM'), ('정부', 'NNG'), ('의', 'JKG'), ('경제', 'NNG'), ('성장', 'NNG'), ('핵심', 'NNG'), ('요소', 'NNG'), ('중', 'NNB'), ('하나', 'NR'), ('다', 'VCP+EF'), ('.', 'SF'), ('문재인', 'NNP'), ('대통령', 'NNG'), ('이', 'JKS'), ('직접', 'MAG'), ('올', 'VV+ETM'), ('들', 'VV'), ('어', 'EC'), ('데이터', 'NNG'), ('활용', 'NNG'), ('과', 'JC'), ('이', 'NP'), ('에', 'JKB'), ('따른', 'VV+ETM'), ('정보', 'NNG'), ('보호', 'NNG'), ('(', 'SSO'), ('보안', 'NNP'), (')', 'SSC'), ('에', 'JKB'), ('대한', 'VV+ETM'), ('중요', 'NNG'), ('성', 'XSN'), ('을', 'JKO'), ('강조', 'NNG'), ('하', 'XSV'), ('기', 'ETN'), ('도', 'JX'), ('했', 'VV+EP'), ('다', 'EF'), ('.', 'SF'), ('이런', 'MM'), ('맥락', 'NNG'), ('속', 'NNG'), ('에서', 'JKB'), ('빅', 'NNG'), ('데이터', 'NNG'), ('센터', 'NNG'), ('는', 'JX'), ('공공', 'NNG'), ('과', 'JC'), ('민간', 'NNG'), ('이', 'JKS'), ('협업', 'NNG'), ('해', 'XSV+EC'), ('활용', 'NNG'), ('도', 'JX'), ('높', 'VA'), ('은', 'ETM'), ('양질', 'NNG'), ('의', 'JKG'), ('데이터', 'NNG'), ('를', 'JKO'), ('생산', 'NNG'), ('·', 'SC'), ('구축', 'NNG'), ('하', 'XSV'), ('고', 'EC'), (',', 'SC'), ('플랫', 'NNG'), ('폼', 'NNG'), ('은', 'JX'), ('이', 'NP'), ('를', 'JKO'), ('수집', 'NNG'), ('·', 'SC'), ('분석', 'NNG'), ('·', 'SC'), ('유통', 'NNG'), ('하', 'XSV'), ('는', 'ETM'), ('역할', 'NNG'), ('을', 'JKO'), ('담당', 'NNG'), ('한다', 'XSV+EF'), ('.', 'SF'), ('과기', 'NNG'), ('정통부', 'NNG'), ('는', 'JX'), ('분야', 'NNG'), ('별', 'XSN'), ('플랫', 'NNG'), ('폼', 'NNG'), ('10', 'SN'), ('개소', 'NNBC'), ('와', 'JC'), ('이', 'NP'), ('와', 'JKB'), ('연계', 'NNG'), ('된', 'XSV+ETM'), ('기관', 'NNG'), ('별', 'XSN'), ('센터', 'NNG'), ('100', 'SN'), ('개소', 'NNBC'), ('를', 'JKO'), ('구축', 'NNG'), ('하', 'XSV'), ('는', 'ETM'), ('데', 'NNB'), ('3', 'SN'), ('년', 'NNBC'), ('간', 'XSN'), ('총', 'MM'), ('1516', 'SN'), ('억', 'NR'), ('원', 'NNBC'), ('을', 'JKO'), ('투입', 'NNG'), ('할', 'XSV+ETM'), ('계획', 'NNG'), ('이', 'VCP'), ('며', 'EC'), (',', 'SC'), ('올해', 'NNG'), ('우선', 'MAG'), ('640', 'SN'), ('억', 'NR'), ('원', 'NNBC'), ('규모', 'NNG'), ('의', 'JKG'), ('사업', 'NNG'), ('을', 'JKO'), ('추진', 'NNG'), ('하', 'XSV'), ('고', 'EC'), ('있', 'VX'), ('다', 'EF'), ('.', 'SF'), ('대상', 'NNG'), ('분야', 'NNG'), ('는', 'JX'), ('△', 'SY'), ('금융', 'NNG'), ('(', 'SSO'), ('BC', 'SL'), ('카드', 'NNG'), (')', 'SSC'), ('△', 'SY'), ('환경', 'NNG'), ('(', 'SSO'), ('한국', 'NNP'), ('수자원', 'NNG'), ('공사', 'NNG'), (')', 'SSC'), ('△', 'SY'), ('문화', 'NNG'), ('(', 'SSO'), ('한국', 'NNP'), ('문화', 'NNG'), ('정보원', 'NNG'), (')', 'SSC'), ('△', 'SY'), ('교통', 'NNG'), ('(', 'SSO'), ('한국', 'NNP'), ('교통', 'NNG'), ('연구원', 'NNG'), (')', 'SSC'), ('△', 'SY'), ('헬', 'NNP'), ('스케어', 'NNP'), ('(', 'SSO'), ('국립암센터', 'NNP'), (')', 'SSC'), ('△', 'SY'), ('유통', 'NNG'), ('·', 'SC'), ('소비', 'NNG'), ('(', 'SSO'), ('매일', 'NNG'), ('방송', 'NNG'), (')', 'SSC'), ('△', 'SY'), ('통신', 'NNG'), ('(', 'SSO'), ('KT', 'SL'), (')', 'SSC'), ('△', 'SY'), ('중소기업', 'NNG'), ('(', 'SSO'), ('더', 'MAG'), ('존', 'VA+ETM'), ('비즈', 'NNG'), ('온', 'VV+ETM'), (')', 'SSC'), ('△', 'SY'), ('지역', 'NNG'), ('경제', 'NNG'), ('(', 'SSO'), ('경기도', 'NNP'), ('청', 'NNG'), (')', 'SSC'), ('△', 'SY'), ('산림', 'NNG'), ('(', 'SSO'), ('한국', 'NNP'), ('임업', 'NNG'), ('진', 'XSA+ETM'), ('흥원', 'NNP'), (')', 'SSC'), ('등', 'NNB'), ('으로', 'JKB'), ('현재', 'MAG'), ('1', 'SN'), ('차', 'NNBC'), ('공모', 'NNG'), ('를', 'JKO'), ('통해', 'VV+EC'), ('72', 'SN'), ('개', 'NNBC'), ('빅', 'NNG'), ('데이터', 'NNG'), ('센터', 'NNG'), ('를', 'JKO'), ('선정', 'NNG'), ('했', 'XSV+EP'), ('고', 'EC'), (',', 'SC'), ('다음', 'NNG'), ('달', 'NNG'), ('8', 'SN'), ('일', 'NNBC'), ('까지', 'JX'), ('2', 'SN'), ('차', 'NNBC'), ('공모', 'NNG'), ('를', 'JKO'), ('통해', 'VV+EC'), ('28', 'SN'), ('개', 'NNBC'), ('를', 'JKO'), ('추가', 'NNG'), ('선정', 'NNG'), ('해', 'XSV+EC'), ('총', 'MM'), ('100', 'SN'), ('개', 'NNBC'), ('를', 'JKO'), ('지원', 'NNG'), (',', 'SC'), ('운영', 'NNG'), ('할', 'XSV+ETM'), ('계획', 'NNG'), ('이', 'VCP'), ('다', 'EF'), ('.', 'SF'), ('이', 'NP'), ('를', 'JKO'), ('통해', 'VV+EC'), ('데이터', 'NNG'), ('생태계', 'NNG'), ('를', 'JKO'), ('혁신', 'NNG'), ('하', 'XSV'), ('고', 'EC'), ('기업', 'NNG'), ('의', 'JKG'), ('경쟁력', 'NNG'), ('을', 'JKO'), ('제고', 'NNG'), ('하', 'XSV'), ('는', 'ETM'), ('역할', 'NNG'), ('을', 'JKO'), ('수행', 'NNG'), ('한다', 'XSV+EF'), ('.', 'SF'), ('주요', 'NNG'), ('활용', 'NNG'), ('전략', 'NNG'), ('·', 'SC'), ('사례', 'NNG'), ('를', 'JKO'), ('보', 'VV'), ('면', 'EC'), ('빅', 'NNG'), ('데이터', 'NNG'), ('활용', 'NNG'), ('을', 'JKO'), ('통해', 'VV+EC'), ('‘', 'SY'), ('신', 'NNG'), ('(', 'SSO'), ('新', 'NNG'), (')', 'SSC'), ('시장', 'NNG'), ('’', 'SY'), ('을', 'JKO'), ('창출', 'NNG'), ('하', 'XSV'), ('는', 'ETM'), ('방안', 'NNG'), ('을', 'JKO'), ('담', 'VV'), ('고', 'EC'), ('있', 'VX'), ('다', 'EF'), ('.', 'SF'), ('금융', 'NNG'), ('플랫', 'NNG'), ('폼', 'NNG'), ('의', 'JKG'), ('경우', 'NNG'), ('소', 'NNG'), ('상공', 'NNG'), ('인', 'VCP+ETM'), ('신용', 'NNG'), ('평가', 'NNG'), ('고도', 'NNG'), ('화', 'XSN'), ('등', 'NNB'), ('을', 'JKO'), ('통해', 'VV+EC'), ('금융', 'NNG'), ('취약', 'NNG'), ('계층', 'NNG'), ('대상', 'NNG'), ('중', 'NNB'), ('금리', 'NNG'), ('대출', 'NNG'), ('이', 'JKS'), ('자를', 'VV+ETM'), ('2', 'SN'), ('%', 'SY'), ('p', 'SL'), ('절감', 'NNG'), ('해', 'XSV+EC'), ('연간', 'NNG'), ('1', 'SN'), ('조', 'NR'), ('원', 'NNBC'), ('의', 'JKG'), ('신규', 'NNG'), ('대출', 'NNG'), ('을', 'JKO'), ('창출', 'NNG'), ('할', 'XSV+ETM'), ('전망', 'NNG'), ('이', 'VCP'), ('다', 'EF'), ('.', 'SF'), ('유통', 'NNG'), ('·', 'SC'), ('소비', 'NNG'), ('와', 'JC'), ('중소기업', 'NNG'), ('플랫', 'NNG'), ('폼', 'NNG'), ('은', 'JX'), ('소상', 'NNG'), ('공인', 'NNG'), ('이나', 'JC'), ('중소기업', 'NNG'), ('의', 'JKG'), ('폐업', 'NNG'), ('률', 'XSN'), ('감소', 'NNG'), ('를', 'JKO'), (',', 'SC'), ('문화', 'NNG'), ('플랫', 'NNG'), ('폼', 'NNG'), ('은', 'JX'), ('문화', 'NNG'), ('·', 'SC'), ('예술', 'NNG'), ('관람', 'NNG'), ('률', 'XSN'), ('과', 'JC'), ('생활', 'NNG'), ('체육', 'NNG'), ('참여', 'NNG'), ('율', 'XSN'), ('을', 'JKO'), ('높이', 'VV'), ('는', 'ETM'), ('방안', 'NNG'), ('을', 'JKO'), ('모색', 'NNG'), ('한다', 'XSV+EF'), ('.', 'SF'), ('의료비', 'NNG'), ('절감', 'NNG'), ('(', 'SSO'), ('헬스', 'NNG'), ('케어', 'NNG'), (')', 'SSC'), ('과', 'JC'), ('기업', 'NNG'), ('의', 'JKG'), ('매출', 'NNG'), ('향상', 'NNG'), ('을', 'JKO'), ('통한', 'VV+ETM'), ('산업', 'NNG'), ('육성', 'NNG'), ('(', 'SSO'), ('통신', 'NNG'), ('·', 'SC'), ('산림', 'NNG'), (')', 'SSC'), ('등', 'NNB'), ('도', 'JX'), ('눈길', 'NNG'), ('을', 'JKO'), ('끈다', 'VV+EF'), ('.', 'SF'), ('과기', 'NNG'), ('정통부', 'NNG'), ('제공', 'NNG'), ('◇', 'SY'), ('2021', 'SN'), ('년', 'NNBC'), ('까지', 'JX'), ('5100', 'SN'), ('여종', 'NNG'), ('데이터', 'NNG'), ('구축', 'NNG'), ('.', 'SF'), ('.', 'SY'), ('AI', 'SL'), ('알고리즘', 'NNG'), ('제공', 'NNG'), ('도', 'JX'), ('센터', 'NNG'), ('는', 'JX'), ('우선', 'MAG'), ('분야', 'NNG'), ('별', 'XSN'), ('데이터', 'NNG'), ('부족', 'NNG'), ('문제', 'NNG'), ('를', 'JKO'), ('해소', 'NNG'), ('하', 'XSV'), ('기', 'ETN'), ('위해', 'VV+EC'), ('올해', 'NNG'), ('말', 'NNB'), ('까지', 'JX'), ('시장', 'NNG'), ('수요', 'NNG'), ('가', 'JKS'), ('높', 'VA'), ('은', 'ETM'), ('1400', 'SN'), ('여종', 'NNG'), ('신규', 'NNG'), ('데이터', 'NNG'), ('를', 'JKO'), ('생산', 'NNG'), ('ㆍ', 'UNKNOWN'), ('구축', 'NNG'), ('하', 'XSV'), ('고', 'EC'), (',', 'SC'), ('사업', 'NNG'), ('이', 'JKS'), ('완료', 'NNG'), ('되', 'XSV'), ('는', 'ETM'), ('2021', 'SN'), ('년', 'NNBC'), ('까지', 'JX'), ('총', 'MM'), ('5100', 'SN'), ('여종', 'NNG'), ('양질', 'NNG'), ('의', 'JKG'), ('풍부', 'XR'), ('한', 'XSA+ETM'), ('데이터', 'NNG'), ('를', 'JKO'), ('생산', 'NNG'), ('·', 'SC'), ('구축', 'NNG'), ('해', 'XSV+EC'), ('시장', 'NNG'), ('에', 'JKB'), ('공급', 'NNG'), ('할', 'XSV+ETM'), ('계획', 'NNG'), ('이', 'VCP'), ('다', 'EF'), ('.', 'SF'), ('특히', 'MAG'), ('공공', 'NNG'), ('과', 'JC'), ('민간', 'NNG'), ('사이', 'NNG'), ('데이터', 'NNG'), ('파일', 'NNG'), ('형식', 'NNG'), ('등', 'NNB'), ('이', 'JKS'), ('달라', 'VA+EC'), ('호환', 'NNG'), ('이', 'JKS'), ('제대로', 'MAG'), ('이뤄지지', 'VV+EC'), ('못한', 'VX+ETM'), ('문제', 'NNG'), ('를', 'JKO'), ('해소', 'NNG'), ('하', 'XSV'), ('기', 'ETN'), ('위해', 'VV+EC'), ('개방', 'NNG'), ('형', 'XSN'), ('표준', 'NNG'), ('을', 'JKO'), ('적용', 'NNG'), ('하', 'XSV'), ('고', 'EC'), (',', 'SC'), ('품질', 'NNG'), ('관리', 'NNG'), ('기준', 'NNG'), ('도', 'JX'), ('마련', 'NNG'), ('해', 'XSV+EC'), ('운영', 'NNG'), ('한다', 'XSV+EF'), ('.', 'SF'), ('기업', 'NNG'), ('들', 'XSN'), ('이', 'JKS'), ('실제', 'NNG'), ('활용', 'NNG'), ('가능', 'NNG'), ('한', 'XSA+ETM'), ('최신', 'NNG'), ('데이터', 'NNG'), ('를', 'JKO'), ('확보', 'NNG'), ('하', 'XSV'), ('는', 'ETM'), ('데', 'NNB'), ('도', 'JX'), ('수개월', 'NNG'), ('이', 'JKS'), ('소요', 'NNG'), ('된다는', 'XSV+ETM'), ('문제점', 'NNG'), ('을', 'JKO'), ('개선', 'NNG'), ('하', 'XSV'), ('기', 'ETN'), ('위한', 'VV+ETM'), ('방안', 'NNG'), ('도', 'JX'), ('추진', 'NNG'), ('한다', 'XSV+EF'), ('.', 'SF'), ('센터', 'NNG'), ('와', 'JC'), ('플랫폼', 'NNG'), ('간', 'NNB'), ('연계', 'NNG'), ('체계', 'NNG'), ('에', 'JKB'), ('는', 'JX'), ('민간', 'NNG'), ('클라우드', 'NNP'), ('를', 'JKO'), ('기반', 'NNG'), ('으로', 'JKB'), ('활용', 'NNG'), ('하', 'XSV'), ('고', 'EC'), (',', 'SC'), ('센터', 'NNG'), ('에', 'JKB'), ('축적', 'NNG'), ('된', 'XSV+ETM'), ('데이터', 'NNG'), ('도', 'JX'), ('계속', 'MAG'), ('외부', 'NNG'), ('와', 'JC'), ('개방', 'NNG'), ('·', 'SC'), ('공유', 'NNG'), ('하', 'XSV'), ('며', 'EC'), ('최신', 'NNG'), ('·', 'SC'), ('연속', 'NNG'), ('성', 'XSN'), ('을', 'JKO'), ('확보', 'NNG'), ('한다는', 'XSV+ETM'), ('계획', 'NNG'), ('이', 'VCP'), ('다', 'EF'), ('.', 'SF'), ('100', 'SN'), ('개', 'NNBC'), ('센터', 'NNG'), ('에서', 'JKB'), ('수집', 'NNG'), ('된', 'XSV+ETM'), ('데이터', 'NNG'), ('를', 'JKO'), ('융합', 'NNG'), ('·', 'SC'), ('분석', 'NNG'), ('한', 'XSV+ETM'), ('뒤', 'NNG'), ('맞춤', 'NNG'), ('형', 'XSN'), ('데이터', 'NNG'), ('제작', 'NNG'), ('등', 'NNB'), ('양질', 'NNG'), ('의', 'JKG'), ('데이터', 'NNG'), ('로', 'JKB'), ('재', 'XPN'), ('생산', 'NNG'), ('하', 'XSV'), ('고', 'EC'), (',', 'SC'), ('기업', 'NNG'), ('들', 'XSN'), ('이', 'JKS'), ('필요', 'NNG'), ('로', 'JKB'), ('하', 'VV'), ('는', 'ETM'), ('데이터', 'NNG'), ('를', 'JKO'), ('원하', 'VV'), ('는', 'ETM'), ('형태', 'NNG'), ('로', 'JKB'), ('즉시', 'MAG'), ('활용', 'NNG'), ('할', 'XSV+ETM'), ('수', 'NNB'), ('있', 'VV'), ('도록', 'EC'), ('제공', 'NNG'), ('할', 'XSV+ETM'), ('계획', 'NNG'), ('이', 'VCP'), ('다', 'EF'), ('.', 'SF'), ('다양', 'XR'), ('한', 'XSA+ETM'), ('분석', 'NNG'), ('도구', 'NNG'), ('는', 'JX'), ('물론', 'MAG'), ('인공지능', 'NNP'), ('(', 'SSO'), ('AI', 'SL'), (')', 'SSC'), ('학습', 'NNG'), ('알고리즘', 'NNG'), ('도', 'JX'), ('제공', 'NNG'), ('해', 'XSV+EC'), ('이용자', 'NNP'), ('가', 'JKS'), ('보다', 'MAG'), ('사용', 'NNG'), ('하', 'XSV'), ('기', 'ETN'), ('편리', 'NNG'), ('한', 'XSA+ETM'), ('환경', 'NNG'), ('을', 'JKO'), ('제공', 'NNG'), ('한다', 'XSV+EF'), ('.', 'SF'), ('이', 'MM'), ('밖', 'NNG'), ('에', 'JKB'), ('필요', 'NNG'), ('한', 'XSA+ETM'), ('데이터', 'NNG'), ('를', 'JKO'), ('쉽', 'VA'), ('게', 'EC'), ('등록', 'NNG'), ('하', 'XSV'), ('고', 'EC'), ('검색', 'NNG'), ('할', 'XSV+ETM'), ('수', 'NNB'), ('있', 'VV'), ('도록', 'EC'), ('기준', 'NNG'), ('을', 'JKO'), ('마련', 'NNG'), ('하', 'XSV'), ('고', 'EC'), (',', 'SC'), ('데이터', 'NNG'), ('보유', 'NNG'), ('와', 'JC'), ('관리', 'NNG'), ('에', 'JKB'), ('대한', 'VV+ETM'), ('체계', 'NNG'), ('(', 'SSO'), ('거버넌스', 'NNP'), (')', 'SSC'), ('를', 'JKO'), ('논의', 'NNG'), ('하', 'XSV'), ('는', 'ETM'), ('‘', 'SY'), ('데이터', 'NNG'), ('얼라이언스', 'NNP'), ('’', 'SY'), ('를', 'JKO'), ('구성', 'NNG'), ('해', 'XSV+EC'), ('보다', 'MAG'), ('안', 'MAG'), ('전하', 'VV'), ('게', 'EC'), ('이용', 'NNG'), ('하', 'XSV'), ('는', 'ETM'), ('방안', 'NNG'), ('도', 'JX'), ('마련', 'NNG'), ('했', 'XSV+EP'), ('다', 'EF'), ('.', 'SF'), ('유영민', 'NNP'), ('과기', 'NNG'), ('정통부', 'NNG'), ('장관', 'NNG'), ('은', 'JX'), ('“', 'SSO'), ('오늘', 'NNG'), ('출범식', 'NNG'), ('은', 'JX'), ('대한민국', 'NNP'), ('이', 'JKS'), ('데이터', 'NNG'), ('강국', 'NNG'), ('으로', 'JKB'), ('가', 'VV'), ('기', 'ETN'), ('위한', 'VV+ETM'), ('초석', 'NNG'), ('을', 'JKO'), ('놓', 'VV'), ('은', 'ETM'), ('자리', 'NNG'), ('”', 'SSC'), ('라며', 'VCP+EC'), ('“', 'SSO'), ('세계', 'NNG'), ('주요', 'NNG'), ('국', 'NNG'), ('들', 'XSN'), ('보다', 'JKB'), ('데이터', 'NNG'), ('경제', 'NNG'), ('로', 'JKB'), ('나아가', 'VV'), ('는', 'ETM'), ('발걸음', 'NNG'), ('이', 'JKS'), ('다소', 'MAG'), ('늦', 'VA'), ('었', 'EP'), ('지만', 'EC'), (',', 'SC'), ('빅', 'NNG'), ('데이터', 'NNG'), ('플랫', 'NNG'), ('폼', 'NNG'), ('과', 'JC'), ('센터', 'NNG'), ('를', 'JKO'), ('지렛대', 'NNG'), ('로', 'JKB'), ('우리나라', 'NNG'), ('의', 'JKG'), ('낙후', 'NNG'), ('된', 'XSV+ETM'), ('데이터', 'NNG'), ('생태계', 'NNG'), ('를', 'JKO'), ('혁신', 'NNG'), ('하', 'XSV'), ('고', 'EC'), ('기업', 'NNG'), ('의', 'JKG'), ('경쟁력', 'NNG'), ('을', 'JKO'), ('한', 'VV+ETM'), ('단계', 'NNG'), ('제고', 'NNG'), ('할', 'XSV+ETM'), ('수', 'NNB'), ('있', 'VV'), ('도록', 'EC'), ('정책', 'NNG'), ('적', 'XSN'), ('역량', 'NNG'), ('을', 'JKO'), ('집중', 'NNG'), ('하', 'XSV'), ('겠', 'EP'), ('다', 'EC'), ('”', 'SSC'), ('고', 'JKQ'), ('밝혔', 'VV+EP'), ('다', 'EF'), ('.', 'SF'), ('이재운', 'NNP'), ('(', 'SSO'), ('jwlee', 'SL'), ('@', 'SY'), ('edaily', 'SL'), ('.', 'SY'), ('co', 'SL'), ('.', 'SY'), ('kr', 'SL'), (')', 'SSC'), ('네이버', 'NNP'), ('홈', 'NNG'), ('에서', 'JKB'), ('‘', 'SY'), ('이', 'JKS'), ('데일리', 'NNP'), ('’', 'SY'), ('뉴스', 'NNG'), ('[', 'SSO'), ('구독', 'NNG'), ('하', 'XSV'), ('기', 'ETN'), ('▶]', 'SY'), ('꿀', 'NNG'), ('잼', 'NNG'), ('가득', 'MAG'), ('[', 'SSO'), ('영상', 'NNG'), ('보', 'VV'), ('기', 'ETN'), ('▶]', 'SY'), (',', 'SC'), ('청춘', 'NNG'), ('뉘', 'NNG'), ('우스', 'NNG'), ('~', 'SY'), ('[', 'SSO'), ('스냅', 'NNG'), ('타임', 'NNG'), ('▶]＜ⓒ', 'SY'), ('종합', 'NNG'), ('경제', 'NNG'), ('정보', 'NNG'), ('미디어', 'NNG'), ('이', 'MM'), ('데일리', 'NNP'), ('-', 'SY'), ('무단', 'NNG'), ('전재', 'NNG'), ('&', 'SY'), ('재', 'XPN'), ('배포', 'NNG'), ('금지', 'NNG'), ('＞', 'SY')]\n"
     ]
    }
   ],
   "source": [
    "from konlpy.tag import Mecab\n",
    "mecab = Mecab(dicpath = 'C:\\mecab\\mecab-ko-dic')\n",
    "\n",
    "nodes = [token for token in mecab.pos(doc) if token[1] in ['NNG','NNP']] #NNG, NNP를 스코어 계산 대상(노드)로 제한\n",
    "print(nodes)\n",
    "tokens = [token for token in mecab.pos(doc)] #탐색할 토큰 전체\n",
    "print(tokens)"
   ]
  },
  {
   "cell_type": "markdown",
   "metadata": {},
   "source": [
    "### 2) 그래프 생성 (weighted edge 계산)"
   ]
  },
  {
   "cell_type": "code",
   "execution_count": 6,
   "metadata": {},
   "outputs": [
    {
     "data": {
      "text/plain": [
       "<networkx.classes.graph.Graph at 0x1c1a2a920b8>"
      ]
     },
     "execution_count": 6,
     "metadata": {},
     "output_type": "execute_result"
    }
   ],
   "source": [
    "import networkx as nx\n",
    "\n",
    "def connect(nodes, tokens):\n",
    "    window_size = 3\n",
    "\n",
    "    edges = []\n",
    "    for window_start in range(len(tokens) - window_size + 1):\n",
    "        window = tokens[window_start : window_start + window_size]\n",
    "        for i in range(window_size):\n",
    "            for j in range(i + 1, window_size):\n",
    "                if (window[i] in nodes) & (window[j] in nodes ):\n",
    "                    edges.append([window[i], window[j]])\n",
    "\n",
    "    return edges\n",
    "\n",
    "graph = nx.diamond_graph()\n",
    "graph.add_nodes_from(list(set(nodes)))\n",
    "graph.add_edges_from(connect(nodes, tokens))\n",
    "graph"
   ]
  },
  {
   "cell_type": "markdown",
   "metadata": {},
   "source": [
    "### 3) 각 노드의 score계산"
   ]
  },
  {
   "cell_type": "code",
   "execution_count": 7,
   "metadata": {},
   "outputs": [
    {
     "data": {
      "text/plain": [
       "[(('데이터', 'NNG'), 0.04365352067396046),\n",
       " (('센터', 'NNG'), 0.016097998103787304),\n",
       " (('한국', 'NNP'), 0.012317440898987744),\n",
       " (('경제', 'NNG'), 0.011753305034386085),\n",
       " (('정보', 'NNG'), 0.01076734293352092)]"
      ]
     },
     "execution_count": 7,
     "metadata": {},
     "output_type": "execute_result"
    }
   ],
   "source": [
    "scores = nx.pagerank(graph)\n",
    "\n",
    "rank = sorted(scores.items(), key=lambda x: x[1], reverse=True)\n",
    "rank[:5]"
   ]
  },
  {
   "cell_type": "markdown",
   "metadata": {},
   "source": [
    "### 4)핵심 단어 추출"
   ]
  },
  {
   "cell_type": "markdown",
   "metadata": {},
   "source": [
    "## 실습3. TextRank 핵심 구 추출"
   ]
  },
  {
   "cell_type": "markdown",
   "metadata": {},
   "source": [
    "### 1) 명사를 기준으로 구 추출"
   ]
  },
  {
   "cell_type": "code",
   "execution_count": 9,
   "metadata": {},
   "outputs": [
    {
     "data": {
      "text/plain": [
       "['과기 정통부',\n",
       " '일 유영민 장관 등 참석',\n",
       " '기념행사',\n",
       " '년',\n",
       " '억 원 투입',\n",
       " '여종 데이터 구축 민간 클라우드',\n",
       " '외부 연계 체계',\n",
       " '개방',\n",
       " '강화',\n",
       " '데일리 이재운 기자']"
      ]
     },
     "execution_count": 9,
     "metadata": {},
     "output_type": "execute_result"
    }
   ],
   "source": [
    "phrases = []\n",
    "phrase = ''\n",
    "for word in tokens:\n",
    "    if word[1][0] =='N':\n",
    "        phrase +=str(word[0])\n",
    "        phrase += ' '\n",
    "    else :\n",
    "        if phrase != ' ':\n",
    "            phrases.append(phrase.strip())\n",
    "        phrase = ' '\n",
    "phrases[:10]"
   ]
  },
  {
   "cell_type": "markdown",
   "metadata": {},
   "source": [
    "### 2) 각 구의 Score 계산"
   ]
  },
  {
   "cell_type": "code",
   "execution_count": 12,
   "metadata": {},
   "outputs": [
    {
     "ename": "TypeError",
     "evalue": "'int' object is not subscriptable",
     "output_type": "error",
     "traceback": [
      "\u001b[1;31m---------------------------------------------------------------------------\u001b[0m",
      "\u001b[1;31mTypeError\u001b[0m                                 Traceback (most recent call last)",
      "\u001b[1;32m<ipython-input-12-bbef8eda4592>\u001b[0m in \u001b[0;36m<module>\u001b[1;34m\u001b[0m\n\u001b[1;32m----> 1\u001b[1;33m \u001b[0mvocabs\u001b[0m \u001b[1;33m=\u001b[0m \u001b[1;33m[\u001b[0m\u001b[1;33m(\u001b[0m\u001b[0mr\u001b[0m\u001b[1;33m[\u001b[0m\u001b[1;36m0\u001b[0m\u001b[1;33m]\u001b[0m\u001b[1;33m[\u001b[0m\u001b[1;36m0\u001b[0m\u001b[1;33m]\u001b[0m\u001b[1;33m,\u001b[0m \u001b[0mr\u001b[0m\u001b[1;33m[\u001b[0m\u001b[1;36m1\u001b[0m\u001b[1;33m]\u001b[0m\u001b[1;33m)\u001b[0m \u001b[1;32mfor\u001b[0m \u001b[0mr\u001b[0m \u001b[1;32min\u001b[0m \u001b[0mrank\u001b[0m\u001b[1;33m]\u001b[0m\u001b[1;33m\u001b[0m\u001b[1;33m\u001b[0m\u001b[0m\n\u001b[0m\u001b[0;32m      2\u001b[0m \u001b[1;33m\u001b[0m\u001b[0m\n\u001b[0;32m      3\u001b[0m \u001b[0mphrase_scores\u001b[0m \u001b[1;33m=\u001b[0m \u001b[1;33m[\u001b[0m\u001b[1;33m]\u001b[0m\u001b[1;33m\u001b[0m\u001b[1;33m\u001b[0m\u001b[0m\n\u001b[0;32m      4\u001b[0m \u001b[0mkeywords\u001b[0m \u001b[1;33m=\u001b[0m \u001b[1;33m[\u001b[0m\u001b[1;33m]\u001b[0m\u001b[1;33m\u001b[0m\u001b[1;33m\u001b[0m\u001b[0m\n\u001b[0;32m      5\u001b[0m \u001b[1;32mfor\u001b[0m \u001b[0mphrase\u001b[0m \u001b[1;32min\u001b[0m \u001b[0munique_phrases\u001b[0m\u001b[1;33m:\u001b[0m\u001b[1;33m\u001b[0m\u001b[1;33m\u001b[0m\u001b[0m\n",
      "\u001b[1;32m<ipython-input-12-bbef8eda4592>\u001b[0m in \u001b[0;36m<listcomp>\u001b[1;34m(.0)\u001b[0m\n\u001b[1;32m----> 1\u001b[1;33m \u001b[0mvocabs\u001b[0m \u001b[1;33m=\u001b[0m \u001b[1;33m[\u001b[0m\u001b[1;33m(\u001b[0m\u001b[0mr\u001b[0m\u001b[1;33m[\u001b[0m\u001b[1;36m0\u001b[0m\u001b[1;33m]\u001b[0m\u001b[1;33m[\u001b[0m\u001b[1;36m0\u001b[0m\u001b[1;33m]\u001b[0m\u001b[1;33m,\u001b[0m \u001b[0mr\u001b[0m\u001b[1;33m[\u001b[0m\u001b[1;36m1\u001b[0m\u001b[1;33m]\u001b[0m\u001b[1;33m)\u001b[0m \u001b[1;32mfor\u001b[0m \u001b[0mr\u001b[0m \u001b[1;32min\u001b[0m \u001b[0mrank\u001b[0m\u001b[1;33m]\u001b[0m\u001b[1;33m\u001b[0m\u001b[1;33m\u001b[0m\u001b[0m\n\u001b[0m\u001b[0;32m      2\u001b[0m \u001b[1;33m\u001b[0m\u001b[0m\n\u001b[0;32m      3\u001b[0m \u001b[0mphrase_scores\u001b[0m \u001b[1;33m=\u001b[0m \u001b[1;33m[\u001b[0m\u001b[1;33m]\u001b[0m\u001b[1;33m\u001b[0m\u001b[1;33m\u001b[0m\u001b[0m\n\u001b[0;32m      4\u001b[0m \u001b[0mkeywords\u001b[0m \u001b[1;33m=\u001b[0m \u001b[1;33m[\u001b[0m\u001b[1;33m]\u001b[0m\u001b[1;33m\u001b[0m\u001b[1;33m\u001b[0m\u001b[0m\n\u001b[0;32m      5\u001b[0m \u001b[1;32mfor\u001b[0m \u001b[0mphrase\u001b[0m \u001b[1;32min\u001b[0m \u001b[0munique_phrases\u001b[0m\u001b[1;33m:\u001b[0m\u001b[1;33m\u001b[0m\u001b[1;33m\u001b[0m\u001b[0m\n",
      "\u001b[1;31mTypeError\u001b[0m: 'int' object is not subscriptable"
     ]
    }
   ],
   "source": [
    "vocabs = [(r[0][0], r[1]) for r in rank]\n",
    "\n",
    "phrase_scores = []\n",
    "keywords = []\n",
    "for phrase in unique_phrases:\n",
    "    phrase_scores = 0\n",
    "    keyword = ''\n",
    "    for word in phrases.split():\n",
    "        if word in vocabs.keys():\n",
    "            phrases_score += vocabs[word.strip()]\n",
    "            "
   ]
  },
  {
   "cell_type": "code",
   "execution_count": null,
   "metadata": {},
   "outputs": [],
   "source": []
  }
 ],
 "metadata": {
  "kernelspec": {
   "display_name": "Python 3",
   "language": "python",
   "name": "python3"
  },
  "language_info": {
   "codemirror_mode": {
    "name": "ipython",
    "version": 3
   },
   "file_extension": ".py",
   "mimetype": "text/x-python",
   "name": "python",
   "nbconvert_exporter": "python",
   "pygments_lexer": "ipython3",
   "version": "3.6.10"
  }
 },
 "nbformat": 4,
 "nbformat_minor": 4
}
