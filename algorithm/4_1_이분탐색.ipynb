{
  "nbformat": 4,
  "nbformat_minor": 0,
  "metadata": {
    "colab": {
      "name": "4-1 이분탐색.ipynb",
      "provenance": [],
      "authorship_tag": "ABX9TyNfk4gkhJJEcl5wQGXggR3+"
    },
    "kernelspec": {
      "name": "python3",
      "display_name": "Python 3"
    },
    "accelerator": "GPU"
  },
  "cells": [
    {
      "cell_type": "code",
      "metadata": {
        "id": "V-x_peDcUs_R",
        "colab_type": "code",
        "colab": {}
      },
      "source": [
        "import sys\n",
        "# sys.stdin = open('','rt')\n",
        "\n",
        "n, num = map(int, input().split())\n",
        "\n",
        "num_list = list(map(int, input().split()))\n",
        "\n",
        "num_list.sort()\n",
        "idx=n//2\n",
        "lower =0\n",
        "upper = n\n",
        "while True:\n",
        "    if num < num_list[idx]:\n",
        "        upper = idx\n",
        "        idx = idx//2\n",
        "    elif num > num_list[idx]:\n",
        "        lower = idx\n",
        "        idx = idx+idx//2\n",
        "    else : print(idx)"
      ],
      "execution_count": null,
      "outputs": []
    }
  ]
}